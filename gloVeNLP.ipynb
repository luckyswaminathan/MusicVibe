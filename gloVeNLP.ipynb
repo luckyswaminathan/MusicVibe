{
  "cells": [
    {
      "cell_type": "markdown",
      "metadata": {
        "id": "view-in-github",
        "colab_type": "text"
      },
      "source": [
        "<a href=\"https://colab.research.google.com/github/luckyswaminathan/MusicVibe/blob/main/gloVeNLP.ipynb\" target=\"_parent\"><img src=\"https://colab.research.google.com/assets/colab-badge.svg\" alt=\"Open In Colab\"/></a>"
      ]
    },
    {
      "cell_type": "code",
      "execution_count": 3,
      "metadata": {
        "id": "Lb2lO6knH3lx"
      },
      "outputs": [],
      "source": [
        "## imports\n",
        "## gloVe credits: \n",
        "## Jeffrey Pennington, Richard Socher, and Christopher D. Manning. 2014. GloVe: Global Vectors for Word Representation. [pdf] [bib]\n",
        "## am adapting structure given by https://www.youtube.com/watch?v=e0WW5w13V64&t=68s&ab_channel=GregHogg to create \n",
        "## an NLP model for my app Music Vibe (data source requires no credits as is open source)\n",
        "import numpy as np\n",
        "import pandas as pd\n",
        "import tensorflow as tf\n",
        "from sklearn.model_selection import train_test_split"
      ]
    },
    {
      "cell_type": "code",
      "execution_count": 4,
      "metadata": {
        "colab": {
          "base_uri": "https://localhost:8080/"
        },
        "id": "QrTRqCb9IGnw",
        "outputId": "92404ac2-9666-4d36-98e6-e4eaa9943c72"
      },
      "outputs": [
        {
          "output_type": "execute_result",
          "data": {
            "text/plain": [
              "2    15299\n",
              "0    15057\n",
              "1     9644\n",
              "Name: sentiment, dtype: int64"
            ]
          },
          "metadata": {},
          "execution_count": 4
        }
      ],
      "source": [
        "url = 'https://raw.githubusercontent.com/luckyswaminathan/MusicVibe/main/tweet_emotions.csv'\n",
        "\n",
        "msc_df = pd.read_csv(url)\n",
        "\n",
        "def custencoder(df):\n",
        "  df.replace(to_replace=\"anger\", value=0, inplace=True)\n",
        "  df.replace(to_replace=\"boredom\", value=1, inplace=True)\n",
        "  df.replace(to_replace=\"empty\", value=1, inplace=True)\n",
        "  df.replace(to_replace=\"neutral\", value=1, inplace=True)\n",
        "  df.replace(to_replace=\"enthusiasm\", value=2, inplace=True)\n",
        "  df.replace(to_replace=\"fun\", value=2, inplace=True)\n",
        "  df.replace(to_replace=\"happiness\", value=2, inplace=True)\n",
        "  df.replace(to_replace=\"hate\", value=0, inplace=True)\n",
        "  df.replace(to_replace=\"love\", value=2, inplace=True)\n",
        "  df.replace(to_replace=\"relief\", value=2, inplace=True)\n",
        "  df.replace(to_replace=\"sadness\", value=0, inplace=True)\n",
        "  df.replace(to_replace=\"surprise\", value=2, inplace=True)\n",
        "  df.replace(to_replace=\"worry\", value=0, inplace=True)\n",
        "\n",
        "custencoder(msc_df['sentiment'])\n",
        "\n",
        "msc_df['sentiment'].value_counts()"
      ]
    },
    {
      "cell_type": "code",
      "execution_count": 6,
      "metadata": {
        "colab": {
          "base_uri": "https://localhost:8080/"
        },
        "id": "aC319LOGEj2u",
        "outputId": "642dae80-bd61-4bbb-c4cd-17c9dea7e7d7"
      },
      "outputs": [
        {
          "output_type": "stream",
          "name": "stdout",
          "text": [
            "--2023-06-09 00:18:01--  http://downloads.cs.stanford.edu/nlp/data/glove.6B.zip\n",
            "Resolving downloads.cs.stanford.edu (downloads.cs.stanford.edu)... 171.64.64.22\n",
            "Connecting to downloads.cs.stanford.edu (downloads.cs.stanford.edu)|171.64.64.22|:80... connected.\n",
            "HTTP request sent, awaiting response... 200 OK\n",
            "Length: 862182613 (822M) [application/zip]\n",
            "Saving to: ‘glove.6B.zip’\n",
            "\n",
            "glove.6B.zip        100%[===================>] 822.24M  5.07MB/s    in 2m 42s  \n",
            "\n",
            "2023-06-09 00:20:43 (5.09 MB/s) - ‘glove.6B.zip’ saved [862182613/862182613]\n",
            "\n"
          ]
        }
      ],
      "source": [
        "## using gloVE rather than word2vec because works better with small dataset\n",
        "\n",
        "!wget http://downloads.cs.stanford.edu/nlp/data/glove.6B.zip"
      ]
    },
    {
      "cell_type": "code",
      "execution_count": 9,
      "metadata": {
        "colab": {
          "base_uri": "https://localhost:8080/"
        },
        "id": "2hpgpOLwFhAR",
        "outputId": "bfc5e04c-3663-4c4b-da3a-4fae32470e9d"
      },
      "outputs": [
        {
          "output_type": "stream",
          "name": "stdout",
          "text": [
            "Archive:  glove.6B.zip\n",
            "  inflating: glove.6B.50d.txt        \n",
            "  inflating: glove.6B.100d.txt       \n",
            "  inflating: glove.6B.200d.txt       \n",
            "  inflating: glove.6B.300d.txt       \n"
          ]
        }
      ],
      "source": [
        "!unzip glove.6B.zip"
      ]
    },
    {
      "cell_type": "code",
      "execution_count": 10,
      "metadata": {
        "colab": {
          "base_uri": "https://localhost:8080/"
        },
        "id": "Zq8mjp05FzWp",
        "outputId": "1d080b29-c1de-4229-e057-17afa995f903"
      },
      "outputs": [
        {
          "output_type": "execute_result",
          "data": {
            "text/plain": [
              "400000"
            ]
          },
          "metadata": {},
          "execution_count": 10
        }
      ],
      "source": [
        "words = dict()\n",
        "def add_to_dict(d, filename):\n",
        "  with open(filename, 'r') as f:\n",
        "    for line in f.readlines():\n",
        "      line = line.split(' ')\n",
        "      d[line[0]] = np.array(line[1:], dtype=float)\n",
        "\n",
        "add_to_dict(words, 'glove.6B.50d.txt')\n",
        "len(words)"
      ]
    },
    {
      "cell_type": "code",
      "execution_count": 11,
      "metadata": {
        "colab": {
          "base_uri": "https://localhost:8080/"
        },
        "id": "93o47vgnKroC",
        "outputId": "1d139932-1f23-4cdd-801c-3a1175453a36"
      },
      "outputs": [
        {
          "output_type": "stream",
          "name": "stderr",
          "text": [
            "[nltk_data] Downloading package wordnet to /root/nltk_data...\n"
          ]
        },
        {
          "output_type": "execute_result",
          "data": {
            "text/plain": [
              "True"
            ]
          },
          "metadata": {},
          "execution_count": 11
        }
      ],
      "source": [
        "import nltk as nl\n",
        "nl.download('wordnet')"
      ]
    },
    {
      "cell_type": "code",
      "execution_count": 12,
      "metadata": {
        "id": "xsyFBAslLOxV"
      },
      "outputs": [],
      "source": [
        "tokenizer = nl.RegexpTokenizer(r\"\\w+\")\n",
        "\n",
        "## LEMMATIZATION -- concatenating variants of a word to one form\n",
        "\n",
        "from nltk.stem import WordNetLemmatizer\n",
        "\n",
        "lemmatizer = WordNetLemmatizer()\n",
        "\n",
        "\n",
        "## tokenizes and lemmatizes all words that are in gloVe word set\n",
        "def tokenLem(s):\n",
        "  tokens = tokenizer.tokenize(s)\n",
        "  tokens = [word.lower() for word in tokens]\n",
        "  tokens = [lemmatizer.lemmatize(word) for word in tokens]\n",
        "  tokens = [word for word in tokens if word in words]\n",
        "\n",
        "  return tokens\n"
      ]
    },
    {
      "cell_type": "code",
      "execution_count": 13,
      "metadata": {
        "id": "CKoIPsRkQLa5"
      },
      "outputs": [],
      "source": [
        "def message_to_word_vectors(message, word_dict=words):\n",
        "  processed_list_of_tokens = tokenLem(message)\n",
        "\n",
        "  vectors = []\n",
        "\n",
        "  for token in processed_list_of_tokens:\n",
        "    if token not in word_dict:\n",
        "      continue\n",
        "    \n",
        "    token_vector = word_dict[token]\n",
        "    vectors.append(token_vector)\n",
        "  \n",
        "  return np.array(vectors, dtype=float)\n",
        "\n",
        "  "
      ]
    },
    {
      "cell_type": "code",
      "execution_count": 14,
      "metadata": {
        "colab": {
          "base_uri": "https://localhost:8080/"
        },
        "id": "Yf-YZUgDQ1P4",
        "outputId": "94adbc9e-9348-4850-bf20-a78e8186c0ba"
      },
      "outputs": [
        {
          "output_type": "execute_result",
          "data": {
            "text/plain": [
              "(28000, 6000, 6000)"
            ]
          },
          "metadata": {},
          "execution_count": 14
        }
      ],
      "source": [
        "## train_test_split\n",
        "\n",
        "train_df, mix_df = train_test_split(msc_df, random_state=42, test_size = 0.3)\n",
        "\n",
        "val_df, test_df = train_test_split(mix_df, random_state=42, test_size = 0.5)\n",
        "\n",
        "\n",
        "len(train_df), len(val_df), len(test_df)\n"
      ]
    },
    {
      "cell_type": "code",
      "execution_count": 15,
      "metadata": {
        "id": "ud1E0jtERyWa"
      },
      "outputs": [],
      "source": [
        "## splitting train,val, test into sentiment and content \n",
        "\n",
        "\n",
        "def df_to_SC(dff):\n",
        "  ## sentiment for sentence\n",
        "  y = dff['sentiment'].to_numpy().astype(int)\n",
        "\n",
        "  ## content array\n",
        "  all_word_vector_sequences = []\n",
        "\n",
        "  for message in dff['content']:\n",
        "    message_as_vector_seq = message_to_word_vectors(message)\n",
        "    \n",
        "    if message_as_vector_seq.shape[0] == 0:\n",
        "      message_as_vector_seq = np.zeros(shape=(1, 50))\n",
        "\n",
        "    all_word_vector_sequences.append(message_as_vector_seq)\n",
        "  \n",
        "  return all_word_vector_sequences, y\n",
        "\n",
        "\n"
      ]
    },
    {
      "cell_type": "code",
      "execution_count": 16,
      "metadata": {
        "id": "t6hmU-yqVYHv"
      },
      "outputs": [],
      "source": [
        "word_train, feel_train = df_to_SC(train_df)"
      ]
    },
    {
      "cell_type": "code",
      "execution_count": 17,
      "metadata": {
        "id": "auICpM1MUnM8"
      },
      "outputs": [],
      "source": [
        "## making the df into a np array\n",
        "\n",
        "from copy import deepcopy\n",
        "\n",
        "def pad_X(X, desired_sequence_length=57):\n",
        "  X_copy = deepcopy(X)\n",
        "\n",
        "  for i, x in enumerate(X):\n",
        "    x_seq_len = x.shape[0]\n",
        "    sequence_length_difference = desired_sequence_length - x_seq_len\n",
        "    \n",
        "    pad = np.zeros(shape=(sequence_length_difference, 50))\n",
        "\n",
        "    X_copy[i] = np.concatenate([x, pad])\n",
        "  \n",
        "  return np.array(X_copy).astype(float)"
      ]
    },
    {
      "cell_type": "code",
      "execution_count": 18,
      "metadata": {
        "id": "IujKGkq0U4aQ"
      },
      "outputs": [],
      "source": [
        "word_train = pad_X(word_train)\n",
        "\n",
        "word_train.shape\n",
        "\n",
        "\n",
        "word_val, feel_val = df_to_SC(val_df)\n",
        "word_val = pad_X(word_val)\n",
        "\n",
        "word_test, feel_test = df_to_SC(test_df)\n",
        "word_test = pad_X(word_test)\n",
        "\n",
        "\n"
      ]
    },
    {
      "cell_type": "code",
      "execution_count": 19,
      "metadata": {
        "id": "ZVh_Q6BsY2or"
      },
      "outputs": [],
      "source": [
        "## LSTM model\n",
        "\n",
        "from tensorflow.keras import layers\n",
        "from tensorflow.keras.models import Sequential\n",
        "\n",
        "model = Sequential([])\n",
        "\n",
        "model.add(layers.Input(shape=(57, 50)))\n",
        "model.add(layers.LSTM(64, return_sequences=True))\n",
        "model.add(layers.Dropout(0.2))\n",
        "model.add(layers.LSTM(64, return_sequences=True))\n",
        "model.add(layers.Dropout(0.2))\n",
        "model.add(layers.LSTM(64, return_sequences=True))\n",
        "model.add(layers.Dropout(0.2))\n",
        "model.add(layers.Flatten())\n",
        "model.add(layers.Dense(1, activation='sigmoid'))\n"
      ]
    },
    {
      "cell_type": "code",
      "execution_count": 20,
      "metadata": {
        "id": "bnJGkyVqY7Gr"
      },
      "outputs": [],
      "source": [
        "from tensorflow.keras.losses import BinaryCrossentropy\n",
        "from tensorflow.keras.optimizers import Adam\n",
        "from tensorflow.keras.metrics import AUC\n",
        "from tensorflow.keras.callbacks import ModelCheckpoint\n",
        "\n",
        "cp = ModelCheckpoint('model/', save_best_only=True)\n",
        "\n",
        "model.compile(optimizer=Adam(learning_rate=0.000001), \n",
        "              loss=BinaryCrossentropy(), \n",
        "              metrics=['accuracy', AUC(name='auc')])"
      ]
    },
    {
      "cell_type": "code",
      "execution_count": 21,
      "metadata": {
        "colab": {
          "base_uri": "https://localhost:8080/"
        },
        "id": "IpSzmVDPY_xJ",
        "outputId": "c99d8aed-9c63-4655-8ece-aa9de1ed0052"
      },
      "outputs": [
        {
          "output_type": "execute_result",
          "data": {
            "text/plain": [
              "{0: 2.6465028355387523, 1: 4.163568773234201, 2: 2.6180458158017763}"
            ]
          },
          "metadata": {},
          "execution_count": 21
        }
      ],
      "source": [
        "frequencies = pd.value_counts(train_df['sentiment']) \n",
        "frequencies\n",
        "## weighting loss function as datset imbalanced\n",
        "\n",
        "weights = {0: frequencies.sum() / frequencies[0], 1: frequencies.sum() / frequencies[1], 2: frequencies.sum() / frequencies[2]}\n",
        "weights"
      ]
    },
    {
      "cell_type": "code",
      "execution_count": null,
      "metadata": {
        "colab": {
          "base_uri": "https://localhost:8080/"
        },
        "id": "8A5sM7UvZD2y",
        "outputId": "747c6ad3-2034-4407-b0fb-a1e8f4f4e0d0"
      },
      "outputs": [
        {
          "output_type": "stream",
          "name": "stdout",
          "text": [
            "Epoch 1/20\n",
            "875/875 [==============================] - ETA: 0s - loss: 1.9894 - accuracy: 0.2535 - auc: 0.4662"
          ]
        },
        {
          "output_type": "stream",
          "name": "stderr",
          "text": [
            "WARNING:absl:Found untraced functions such as _update_step_xla, lstm_cell_layer_call_fn, lstm_cell_layer_call_and_return_conditional_losses, lstm_cell_1_layer_call_fn, lstm_cell_1_layer_call_and_return_conditional_losses while saving (showing 5 of 7). These functions will not be directly callable after loading.\n"
          ]
        },
        {
          "output_type": "stream",
          "name": "stdout",
          "text": [
            "\b\b\b\b\b\b\b\b\b\b\b\b\b\b\b\b\b\b\b\b\b\b\b\b\b\b\b\b\b\b\b\b\b\b\b\b\b\b\b\b\b\b\b\b\b\b\b\b\b\b\b\b\b\b\b\b\b\b\b\b\b\b\b\b\b\b\b\b\b\b\b\b\b\b\b\b\b\b\b\b\b\b\b\b\b\b\b\b\b\b\b\b\b\b\b\b\b\b\r875/875 [==============================] - 84s 91ms/step - loss: 1.9894 - accuracy: 0.2535 - auc: 0.4662 - val_loss: 0.6238 - val_accuracy: 0.2377 - val_auc: 0.4272\n",
            "Epoch 2/20\n",
            "875/875 [==============================] - ETA: 0s - loss: 1.7313 - accuracy: 0.2402 - auc: 0.4381"
          ]
        },
        {
          "output_type": "stream",
          "name": "stderr",
          "text": [
            "WARNING:absl:Found untraced functions such as _update_step_xla, lstm_cell_layer_call_fn, lstm_cell_layer_call_and_return_conditional_losses, lstm_cell_1_layer_call_fn, lstm_cell_1_layer_call_and_return_conditional_losses while saving (showing 5 of 7). These functions will not be directly callable after loading.\n"
          ]
        },
        {
          "output_type": "stream",
          "name": "stdout",
          "text": [
            "\b\b\b\b\b\b\b\b\b\b\b\b\b\b\b\b\b\b\b\b\b\b\b\b\b\b\b\b\b\b\b\b\b\b\b\b\b\b\b\b\b\b\b\b\b\b\b\b\b\b\b\b\b\b\b\b\b\b\b\b\b\b\b\b\b\b\b\b\b\b\b\b\b\b\b\b\b\b\b\b\b\b\b\b\b\b\b\b\b\b\b\b\b\b\b\b\b\b\r875/875 [==============================] - 80s 92ms/step - loss: 1.7313 - accuracy: 0.2402 - auc: 0.4381 - val_loss: 0.5106 - val_accuracy: 0.2377 - val_auc: 0.4301\n",
            "Epoch 3/20\n",
            "875/875 [==============================] - ETA: 0s - loss: 1.3384 - accuracy: 0.2402 - auc: 0.4288"
          ]
        },
        {
          "output_type": "stream",
          "name": "stderr",
          "text": [
            "WARNING:absl:Found untraced functions such as _update_step_xla, lstm_cell_layer_call_fn, lstm_cell_layer_call_and_return_conditional_losses, lstm_cell_1_layer_call_fn, lstm_cell_1_layer_call_and_return_conditional_losses while saving (showing 5 of 7). These functions will not be directly callable after loading.\n"
          ]
        },
        {
          "output_type": "stream",
          "name": "stdout",
          "text": [
            "\b\b\b\b\b\b\b\b\b\b\b\b\b\b\b\b\b\b\b\b\b\b\b\b\b\b\b\b\b\b\b\b\b\b\b\b\b\b\b\b\b\b\b\b\b\b\b\b\b\b\b\b\b\b\b\b\b\b\b\b\b\b\b\b\b\b\b\b\b\b\b\b\b\b\b\b\b\b\b\b\b\b\b\b\b\b\b\b\b\b\b\b\b\b\b\b\b\b\r875/875 [==============================] - 79s 90ms/step - loss: 1.3384 - accuracy: 0.2402 - auc: 0.4288 - val_loss: 0.3544 - val_accuracy: 0.2377 - val_auc: 0.4324\n",
            "Epoch 4/20\n",
            "875/875 [==============================] - ETA: 0s - loss: 0.9068 - accuracy: 0.2402 - auc: 0.4282"
          ]
        },
        {
          "output_type": "stream",
          "name": "stderr",
          "text": [
            "WARNING:absl:Found untraced functions such as _update_step_xla, lstm_cell_layer_call_fn, lstm_cell_layer_call_and_return_conditional_losses, lstm_cell_1_layer_call_fn, lstm_cell_1_layer_call_and_return_conditional_losses while saving (showing 5 of 7). These functions will not be directly callable after loading.\n"
          ]
        },
        {
          "output_type": "stream",
          "name": "stdout",
          "text": [
            "\b\b\b\b\b\b\b\b\b\b\b\b\b\b\b\b\b\b\b\b\b\b\b\b\b\b\b\b\b\b\b\b\b\b\b\b\b\b\b\b\b\b\b\b\b\b\b\b\b\b\b\b\b\b\b\b\b\b\b\b\b\b\b\b\b\b\b\b\b\b\b\b\b\b\b\b\b\b\b\b\b\b\b\b\b\b\b\b\b\b\b\b\b\b\b\b\b\b\r875/875 [==============================] - 86s 98ms/step - loss: 0.9068 - accuracy: 0.2402 - auc: 0.4282 - val_loss: 0.2164 - val_accuracy: 0.2377 - val_auc: 0.4342\n",
            "Epoch 5/20\n",
            "875/875 [==============================] - ETA: 0s - loss: 0.5906 - accuracy: 0.2402 - auc: 0.4294"
          ]
        },
        {
          "output_type": "stream",
          "name": "stderr",
          "text": [
            "WARNING:absl:Found untraced functions such as _update_step_xla, lstm_cell_layer_call_fn, lstm_cell_layer_call_and_return_conditional_losses, lstm_cell_1_layer_call_fn, lstm_cell_1_layer_call_and_return_conditional_losses while saving (showing 5 of 7). These functions will not be directly callable after loading.\n"
          ]
        },
        {
          "output_type": "stream",
          "name": "stdout",
          "text": [
            "\b\b\b\b\b\b\b\b\b\b\b\b\b\b\b\b\b\b\b\b\b\b\b\b\b\b\b\b\b\b\b\b\b\b\b\b\b\b\b\b\b\b\b\b\b\b\b\b\b\b\b\b\b\b\b\b\b\b\b\b\b\b\b\b\b\b\b\b\b\b\b\b\b\b\b\b\b\b\b\b\b\b\b\b\b\b\b\b\b\b\b\b\b\b\b\b\b\b\r875/875 [==============================] - 83s 95ms/step - loss: 0.5906 - accuracy: 0.2402 - auc: 0.4294 - val_loss: 0.1304 - val_accuracy: 0.2377 - val_auc: 0.4359\n",
            "Epoch 6/20\n",
            "793/875 [==========================>...] - ETA: 6s - loss: 0.4000 - accuracy: 0.2403 - auc: 0.4309"
          ]
        }
      ],
      "source": [
        "model.fit(word_train, feel_train, validation_data=(word_val, feel_val), epochs=20, callbacks=[cp], class_weight=weights)"
      ]
    },
    {
      "cell_type": "code",
      "execution_count": 23,
      "metadata": {
        "id": "0GehHUM_aQt6"
      },
      "outputs": [],
      "source": [
        "from tensorflow.keras.models import load_model\n",
        "\n",
        "best_model = load_model('model/')"
      ]
    },
    {
      "cell_type": "code",
      "execution_count": 24,
      "metadata": {
        "id": "SA56tMzJaTOH",
        "colab": {
          "base_uri": "https://localhost:8080/"
        },
        "outputId": "1a58482c-4443-493d-b020-b9bb2b13cd65"
      },
      "outputs": [
        {
          "output_type": "stream",
          "name": "stdout",
          "text": [
            "188/188 [==============================] - 6s 27ms/step\n",
            "              precision    recall  f1-score   support\n",
            "\n",
            "           0       0.00      0.00      0.00      2218\n",
            "           1       0.25      1.00      0.40      1493\n",
            "           2       0.00      0.00      0.00      2289\n",
            "\n",
            "    accuracy                           0.25      6000\n",
            "   macro avg       0.08      0.33      0.13      6000\n",
            "weighted avg       0.06      0.25      0.10      6000\n",
            "\n"
          ]
        },
        {
          "output_type": "stream",
          "name": "stderr",
          "text": [
            "/usr/local/lib/python3.10/dist-packages/sklearn/metrics/_classification.py:1344: UndefinedMetricWarning: Precision and F-score are ill-defined and being set to 0.0 in labels with no predicted samples. Use `zero_division` parameter to control this behavior.\n",
            "  _warn_prf(average, modifier, msg_start, len(result))\n",
            "/usr/local/lib/python3.10/dist-packages/sklearn/metrics/_classification.py:1344: UndefinedMetricWarning: Precision and F-score are ill-defined and being set to 0.0 in labels with no predicted samples. Use `zero_division` parameter to control this behavior.\n",
            "  _warn_prf(average, modifier, msg_start, len(result))\n",
            "/usr/local/lib/python3.10/dist-packages/sklearn/metrics/_classification.py:1344: UndefinedMetricWarning: Precision and F-score are ill-defined and being set to 0.0 in labels with no predicted samples. Use `zero_division` parameter to control this behavior.\n",
            "  _warn_prf(average, modifier, msg_start, len(result))\n"
          ]
        }
      ],
      "source": [
        "test_predictions = (best_model.predict(word_test) > 0.5).astype(int)\n",
        "\n",
        "from sklearn.metrics import classification_report\n",
        "\n",
        "print(classification_report(feel_test, test_predictions))"
      ]
    }
  ],
  "metadata": {
    "colab": {
      "provenance": [],
      "authorship_tag": "ABX9TyPd70vSDA0Vq16eCj9qLCeJ",
      "include_colab_link": true
    },
    "kernelspec": {
      "display_name": "Python 3",
      "name": "python3"
    },
    "language_info": {
      "name": "python"
    }
  },
  "nbformat": 4,
  "nbformat_minor": 0
}