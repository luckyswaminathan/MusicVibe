{
  "cells": [
    {
      "cell_type": "markdown",
      "metadata": {
        "id": "view-in-github",
        "colab_type": "text"
      },
      "source": [
        "<a href=\"https://colab.research.google.com/github/luckyswaminathan/MusicVibe/blob/main/gloVeNLP.ipynb\" target=\"_parent\"><img src=\"https://colab.research.google.com/assets/colab-badge.svg\" alt=\"Open In Colab\"/></a>"
      ]
    },
    {
      "cell_type": "code",
      "execution_count": null,
      "metadata": {
        "id": "Lb2lO6knH3lx"
      },
      "outputs": [],
      "source": [
        "## imports\n",
        "## gloVe credits: \n",
        "## Jeffrey Pennington, Richard Socher, and Christopher D. Manning. 2014. GloVe: Global Vectors for Word Representation. [pdf] [bib]\n",
        "## am adapting structure given by https://www.youtube.com/watch?v=e0WW5w13V64&t=68s&ab_channel=GregHogg to create \n",
        "## an NLP model for my app Music Vibe (data source requires no credits as is open source)\n",
        "import numpy as np\n",
        "import pandas as pd\n",
        "import tensorflow as tf\n",
        "from sklearn.model_selection import train_test_split"
      ]
    },
    {
      "cell_type": "code",
      "execution_count": null,
      "metadata": {
        "colab": {
          "base_uri": "https://localhost:8080/"
        },
        "id": "QrTRqCb9IGnw",
        "outputId": "3769190b-890d-4c79-f857-26ba16784cd5"
      },
      "outputs": [
        {
          "output_type": "execute_result",
          "data": {
            "text/plain": [
              "[0, 0, 1]    15299\n",
              "[1, 0, 0]    15057\n",
              "[0, 1, 0]     9644\n",
              "Name: sentiment, dtype: int64"
            ]
          },
          "metadata": {},
          "execution_count": 3
        }
      ],
      "source": [
        "url = 'https://raw.githubusercontent.com/luckyswaminathan/MusicVibe/main/tweet_emotions.csv'\n",
        "\n",
        "msc_df = pd.read_csv(url)\n",
        "\n",
        "\n",
        "sentiment_mapping = dict.fromkeys([\"anger\", \"hate\", \"sadness\", \"worry\"], (np.array([1,0,0])))\n",
        "\n",
        "sentiment_mapping.update(dict.fromkeys([\"boredom\", \"empty\", \"neutral\"], (np.array([0,1,0]))))\n",
        "\n",
        "sentiment_mapping.update(dict.fromkeys([\"enthusiasm\", \"fun\", \"happiness\", \"love\", \"relief\", \"surprise\"], (np.array([0,0,1]))))\n",
        "\n",
        "msc_df['sentiment'] = msc_df['sentiment'].map(sentiment_mapping)\n",
        "\n",
        "# Map the sentiment values using the mapping dictionary\n",
        "\n",
        "\n",
        "# Check the value counts\n",
        "msc_df['sentiment'].value_counts()\n",
        "\n"
      ]
    },
    {
      "cell_type": "code",
      "execution_count": null,
      "metadata": {
        "colab": {
          "base_uri": "https://localhost:8080/"
        },
        "id": "aC319LOGEj2u",
        "outputId": "28f0cada-e151-477e-971d-17b109840a16"
      },
      "outputs": [
        {
          "output_type": "stream",
          "name": "stdout",
          "text": [
            "--2023-06-10 22:00:17--  http://downloads.cs.stanford.edu/nlp/data/glove.twitter.27B.zip\n",
            "Resolving downloads.cs.stanford.edu (downloads.cs.stanford.edu)... 171.64.64.22\n",
            "Connecting to downloads.cs.stanford.edu (downloads.cs.stanford.edu)|171.64.64.22|:80... connected.\n",
            "HTTP request sent, awaiting response... 200 OK\n",
            "Length: 1520408563 (1.4G) [application/zip]\n",
            "Saving to: ‘glove.twitter.27B.zip.1’\n",
            "\n",
            "glove.twitter.27B.z 100%[===================>]   1.42G  5.07MB/s    in 4m 46s  \n",
            "\n",
            "2023-06-10 22:05:02 (5.08 MB/s) - ‘glove.twitter.27B.zip.1’ saved [1520408563/1520408563]\n",
            "\n"
          ]
        }
      ],
      "source": [
        "## using gloVE rather than word2vec because works better with small dataset\n",
        "\n",
        "!wget http://downloads.cs.stanford.edu/nlp/data/glove.twitter.27B.zip"
      ]
    },
    {
      "cell_type": "code",
      "source": [
        "from google.colab import drive\n",
        "drive.mount('/content/drive')"
      ],
      "metadata": {
        "colab": {
          "base_uri": "https://localhost:8080/"
        },
        "id": "kX9uc8B2UjpP",
        "outputId": "fc3b34a0-86ce-4f05-d14e-66a36a03bc2d"
      },
      "execution_count": null,
      "outputs": [
        {
          "output_type": "stream",
          "name": "stdout",
          "text": [
            "Mounted at /content/drive\n"
          ]
        }
      ]
    },
    {
      "cell_type": "code",
      "execution_count": 11,
      "metadata": {
        "colab": {
          "base_uri": "https://localhost:8080/"
        },
        "id": "2hpgpOLwFhAR",
        "outputId": "888c0e72-1142-4312-c413-ce5dabf77c04"
      },
      "outputs": [
        {
          "output_type": "stream",
          "name": "stdout",
          "text": [
            "Archive:  glove.twitter.27B.zip.1\n",
            "  inflating: glove.twitter.27B.25d.txt  \n",
            "  inflating: glove.twitter.27B.50d.txt  \n",
            "  inflating: glove.twitter.27B.100d.txt  \n",
            "  inflating: glove.twitter.27B.200d.txt  \n"
          ]
        }
      ],
      "source": [
        "!unzip glove.twitter.27B.zip.1"
      ]
    },
    {
      "cell_type": "code",
      "execution_count": 12,
      "metadata": {
        "colab": {
          "base_uri": "https://localhost:8080/"
        },
        "id": "Zq8mjp05FzWp",
        "outputId": "47367a4e-e018-4622-8b38-2114218db562"
      },
      "outputs": [
        {
          "output_type": "execute_result",
          "data": {
            "text/plain": [
              "1193514"
            ]
          },
          "metadata": {},
          "execution_count": 12
        }
      ],
      "source": [
        "words = dict()\n",
        "def add_to_dict(d, filename):\n",
        "  with open(filename, 'r') as f:\n",
        "    for line in f.readlines():\n",
        "      line = line.split(' ')\n",
        "      d[line[0]] = np.array(line[1:], dtype=float)\n",
        "\n",
        "add_to_dict(words, 'glove.twitter.27B.50d.txt')\n",
        "len(words)"
      ]
    },
    {
      "cell_type": "code",
      "execution_count": 13,
      "metadata": {
        "colab": {
          "base_uri": "https://localhost:8080/"
        },
        "id": "93o47vgnKroC",
        "outputId": "dede9416-a719-4d95-b025-23894d3eb3df"
      },
      "outputs": [
        {
          "output_type": "stream",
          "name": "stderr",
          "text": [
            "[nltk_data] Downloading package wordnet to /root/nltk_data...\n"
          ]
        },
        {
          "output_type": "execute_result",
          "data": {
            "text/plain": [
              "True"
            ]
          },
          "metadata": {},
          "execution_count": 13
        }
      ],
      "source": [
        "import nltk as nl\n",
        "nl.download('wordnet')"
      ]
    },
    {
      "cell_type": "code",
      "execution_count": 14,
      "metadata": {
        "id": "xsyFBAslLOxV"
      },
      "outputs": [],
      "source": [
        "tokenizer = nl.RegexpTokenizer(r\"\\w+\")\n",
        "\n",
        "## LEMMATIZATION -- concatenating variants of a word to one form\n",
        "\n",
        "from nltk.stem import WordNetLemmatizer\n",
        "\n",
        "lemmatizer = WordNetLemmatizer()\n",
        "\n",
        "\n",
        "## tokenizes and lemmatizes all words that are in gloVe word set\n",
        "def tokenLem(s):\n",
        "  tokens = tokenizer.tokenize(s)\n",
        "  tokens = [word.lower() for word in tokens]\n",
        "  tokens = [lemmatizer.lemmatize(word) for word in tokens]\n",
        "  tokens = [word for word in tokens if word in words]\n",
        "\n",
        "  return tokens\n"
      ]
    },
    {
      "cell_type": "code",
      "execution_count": 15,
      "metadata": {
        "id": "CKoIPsRkQLa5"
      },
      "outputs": [],
      "source": [
        "def message_to_word_vectors(message, word_dict=words):\n",
        "  processed_list_of_tokens = tokenLem(message)\n",
        "\n",
        "  vectors = []\n",
        "\n",
        "  for token in processed_list_of_tokens:\n",
        "    if token not in word_dict:\n",
        "      continue\n",
        "    \n",
        "    token_vector = word_dict[token]\n",
        "    vectors.append(token_vector)\n",
        "  \n",
        "  return np.array(vectors, dtype=float)\n",
        "\n",
        "  "
      ]
    },
    {
      "cell_type": "code",
      "execution_count": 17,
      "metadata": {
        "colab": {
          "base_uri": "https://localhost:8080/"
        },
        "id": "Yf-YZUgDQ1P4",
        "outputId": "50c155a3-0e6f-4677-a43a-d16a3874e836"
      },
      "outputs": [
        {
          "output_type": "execute_result",
          "data": {
            "text/plain": [
              "(28000, 6000, 6000)"
            ]
          },
          "metadata": {},
          "execution_count": 17
        }
      ],
      "source": [
        "## train_test_split\n",
        "\n",
        "\n",
        "\n",
        "train_df, mix_df = train_test_split(msc_df, random_state=42, test_size = 0.3)\n",
        "\n",
        "val_df, test_df = train_test_split(mix_df, random_state=42, test_size = 0.5)\n",
        "\n",
        "\n",
        "len(train_df), len(val_df), len(test_df)\n"
      ]
    },
    {
      "cell_type": "code",
      "execution_count": 18,
      "metadata": {
        "id": "ud1E0jtERyWa"
      },
      "outputs": [],
      "source": [
        "## splitting train,val, test into sentiment and content \n",
        "\n",
        "\n",
        "def df_to_SC(dff):\n",
        "  ## sentiment for sentence\n",
        "  y = dff['sentiment'].to_numpy()\n",
        "\n",
        "  ## content array\n",
        "  all_word_vector_sequences = []\n",
        "\n",
        "  for message in dff['content']:\n",
        "    message_as_vector_seq = message_to_word_vectors(message)\n",
        "    \n",
        "    if message_as_vector_seq.shape[0] == 0:\n",
        "      message_as_vector_seq = np.zeros(shape=(1, 50))\n",
        "\n",
        "    all_word_vector_sequences.append(message_as_vector_seq)\n",
        "  \n",
        "  return all_word_vector_sequences, y\n",
        "\n",
        "\n"
      ]
    },
    {
      "cell_type": "code",
      "execution_count": 19,
      "metadata": {
        "id": "t6hmU-yqVYHv",
        "colab": {
          "base_uri": "https://localhost:8080/"
        },
        "outputId": "1e5bb7e6-769c-4200-eb32-c3a928566e5a"
      },
      "outputs": [
        {
          "output_type": "execute_result",
          "data": {
            "text/plain": [
              "26"
            ]
          },
          "metadata": {},
          "execution_count": 19
        }
      ],
      "source": [
        "word_train, feel_train = df_to_SC(train_df)\n",
        "\n",
        "len(word_train[0])"
      ]
    },
    {
      "cell_type": "code",
      "source": [
        "sequence_lengths = []\n",
        "\n",
        "for i in range(len(word_train)):\n",
        "  sequence_lengths.append(len(word_train[i]))\n",
        "\n",
        "import matplotlib.pyplot as plt\n",
        "\n",
        "plt.hist(sequence_lengths)"
      ],
      "metadata": {
        "colab": {
          "base_uri": "https://localhost:8080/",
          "height": 501
        },
        "id": "crznmovIz67i",
        "outputId": "53caec3c-9c04-4001-9426-78ece804d1f2"
      },
      "execution_count": 20,
      "outputs": [
        {
          "output_type": "execute_result",
          "data": {
            "text/plain": [
              "(array([3180., 4294., 5883., 3589., 4014., 2663., 2932., 1152.,  282.,\n",
              "          11.]),\n",
              " array([ 1. ,  4.5,  8. , 11.5, 15. , 18.5, 22. , 25.5, 29. , 32.5, 36. ]),\n",
              " <BarContainer object of 10 artists>)"
            ]
          },
          "metadata": {},
          "execution_count": 20
        },
        {
          "output_type": "display_data",
          "data": {
            "text/plain": [
              "<Figure size 640x480 with 1 Axes>"
            ],
            "image/png": "[encoded data removed]"
          },
          "metadata": {}
        }
      ]
    },
    {
      "cell_type": "code",
      "execution_count": 21,
      "metadata": {
        "id": "auICpM1MUnM8"
      },
      "outputs": [],
      "source": [
        "## making the df into a np array\n",
        "\n",
        "from copy import deepcopy\n",
        "\n",
        "def pad_X(X, desired_sequence_length=38):\n",
        "  X_copy = deepcopy(X)\n",
        "\n",
        "  for i, x in enumerate(X):\n",
        "    x_seq_len = x.shape[0]\n",
        "    sequence_length_difference = desired_sequence_length - x_seq_len\n",
        "    \n",
        "    pad = np.zeros(shape=(sequence_length_difference, 50))\n",
        "\n",
        "    X_copy[i] = np.concatenate([x, pad])\n",
        "  \n",
        "  return np.array(X_copy).astype(float)"
      ]
    },
    {
      "cell_type": "code",
      "execution_count": 22,
      "metadata": {
        "id": "IujKGkq0U4aQ",
        "colab": {
          "base_uri": "https://localhost:8080/"
        },
        "outputId": "f3955720-2dbf-42f7-a531-83d455a1c97b"
      },
      "outputs": [
        {
          "output_type": "stream",
          "name": "stdout",
          "text": [
            "38\n"
          ]
        }
      ],
      "source": [
        "word_train = pad_X(word_train)\n",
        "print(len(word_train[0]))\n",
        "\n",
        "\n",
        "word_val, feel_val = df_to_SC(val_df)\n",
        "word_val = pad_X(word_val)\n",
        "\n",
        "word_test, feel_test = df_to_SC(test_df)\n",
        "word_test = pad_X(word_test)\n",
        "\n",
        "\n"
      ]
    },
    {
      "cell_type": "code",
      "execution_count": 23,
      "metadata": {
        "id": "ZVh_Q6BsY2or"
      },
      "outputs": [],
      "source": [
        "## LSTM model\n",
        "\n",
        "from tensorflow.keras import layers\n",
        "from tensorflow.keras.models import Sequential\n",
        "\n",
        "model = Sequential()\n",
        "\n",
        "model.add(layers.Input(shape=(38, 50)))\n",
        "model.add(layers.LSTM(64, return_sequences=True))\n",
        "model.add(layers.Dropout(0.2))\n",
        "model.add(layers.LSTM(64, return_sequences=True))\n",
        "model.add(layers.Dropout(0.2))\n",
        "model.add(layers.LSTM(64, return_sequences=True))\n",
        "model.add(layers.Dropout(0.2))\n",
        "model.add(layers.Flatten())\n",
        "model.add(layers.Dense(3, activation='softmax'))\n"
      ]
    },
    {
      "cell_type": "code",
      "execution_count": 49,
      "metadata": {
        "id": "bnJGkyVqY7Gr"
      },
      "outputs": [],
      "source": [
        "from tensorflow.keras.losses import CategoricalCrossentropy\n",
        "from tensorflow.keras.optimizers import Adam\n",
        "from tensorflow.keras.metrics import AUC\n",
        "from tensorflow.keras.callbacks import ModelCheckpoint\n",
        "\n",
        "cp = ModelCheckpoint('model/', save_best_only=True)\n",
        "\n",
        "model.compile(optimizer=Adam(learning_rate=0.0001), \n",
        "              loss=CategoricalCrossentropy(), \n",
        "              metrics=['accuracy', AUC(name='auc')])"
      ]
    },
    {
      "cell_type": "code",
      "source": [
        "print(feel_train)"
      ],
      "metadata": {
        "colab": {
          "base_uri": "https://localhost:8080/"
        },
        "id": "MryW-w16X5yY",
        "outputId": "c091e03b-250f-46d2-ed43-a3d9876572ef"
      },
      "execution_count": 41,
      "outputs": [
        {
          "output_type": "stream",
          "name": "stdout",
          "text": [
            "[array([1, 0, 0]) array([0, 1, 0]) array([0, 1, 0]) ... array([0, 0, 1])\n",
            " array([1, 0, 0]) array([0, 0, 1])]\n"
          ]
        }
      ]
    },
    {
      "cell_type": "code",
      "execution_count": 47,
      "metadata": {
        "colab": {
          "base_uri": "https://localhost:8080/"
        },
        "id": "IpSzmVDPY_xJ",
        "outputId": "eff9bd0a-ca23-47a4-a61c-3a50ec85786c"
      },
      "outputs": [
        {
          "output_type": "stream",
          "name": "stdout",
          "text": [
            "[0, 0, 1]    10695\n",
            "[1, 0, 0]    10580\n",
            "[0, 1, 0]     6725\n",
            "Name: sentiment, dtype: int64\n"
          ]
        },
        {
          "output_type": "execute_result",
          "data": {
            "text/plain": [
              "{0: 2.6180458158017763, 1: 2.6465028355387523, 2: 4.163568773234201}"
            ]
          },
          "metadata": {},
          "execution_count": 47
        }
      ],
      "source": [
        "frequencies = pd.value_counts(train_df['sentiment']) \n",
        "print(frequencies)\n",
        "## weighting loss function as datset imbalanced\n",
        "\n",
        "weights = {0: frequencies.sum() / frequencies[0], 1: frequencies.sum() / frequencies[1], 2: frequencies.sum() / frequencies[2]}\n",
        "weights"
      ]
    },
    {
      "cell_type": "code",
      "source": [
        "word_train = word_train.astype(np.float32)\n",
        "word_val = word_val.astype(np.float32)\n",
        "\n",
        "\n",
        "\n",
        "\n",
        "# Convert elements of feel_train to float32 type\n",
        "feel_train = np.array([np.array(arr, dtype=np.float32) for arr in feel_train])\n",
        "feel_val = np.array([np.array(arr, dtype=np.float32) for arr in feel_val])\n"
      ],
      "metadata": {
        "id": "4XZ8lC9z1KVn"
      },
      "execution_count": 50,
      "outputs": []
    },
    {
      "cell_type": "code",
      "execution_count": 51,
      "metadata": {
        "colab": {
          "base_uri": "https://localhost:8080/"
        },
        "id": "8A5sM7UvZD2y",
        "outputId": "1e2d1f71-d0cf-4a1e-a89e-eeb1e45d8764"
      },
      "outputs": [
        {
          "output_type": "stream",
          "name": "stdout",
          "text": [
            "Epoch 1/20\n",
            "875/875 [==============================] - ETA: 0s - loss: 3.0454 - accuracy: 0.4793 - auc: 0.6787"
          ]
        },
        {
          "output_type": "stream",
          "name": "stderr",
          "text": [
            "WARNING:absl:Found untraced functions such as _update_step_xla, lstm_cell_layer_call_fn, lstm_cell_layer_call_and_return_conditional_losses, lstm_cell_1_layer_call_fn, lstm_cell_1_layer_call_and_return_conditional_losses while saving (showing 5 of 7). These functions will not be directly callable after loading.\n"
          ]
        },
        {
          "output_type": "stream",
          "name": "stdout",
          "text": [
            "\b\b\b\b\b\b\b\b\b\b\b\b\b\b\b\b\b\b\b\b\b\b\b\b\b\b\b\b\b\b\b\b\b\b\b\b\b\b\b\b\b\b\b\b\b\b\b\b\b\b\b\b\b\b\b\b\b\b\b\b\b\b\b\b\b\b\b\b\b\b\b\b\b\b\b\b\b\b\b\b\b\b\b\b\b\b\b\b\b\b\b\b\b\b\b\b\b\b\r875/875 [==============================] - 121s 131ms/step - loss: 3.0454 - accuracy: 0.4793 - auc: 0.6787 - val_loss: 0.9900 - val_accuracy: 0.5237 - val_auc: 0.7064\n",
            "Epoch 2/20\n",
            "875/875 [==============================] - ETA: 0s - loss: 2.8881 - accuracy: 0.5411 - auc: 0.7249"
          ]
        },
        {
          "output_type": "stream",
          "name": "stderr",
          "text": [
            "WARNING:absl:Found untraced functions such as _update_step_xla, lstm_cell_layer_call_fn, lstm_cell_layer_call_and_return_conditional_losses, lstm_cell_1_layer_call_fn, lstm_cell_1_layer_call_and_return_conditional_losses while saving (showing 5 of 7). These functions will not be directly callable after loading.\n"
          ]
        },
        {
          "output_type": "stream",
          "name": "stdout",
          "text": [
            "\b\b\b\b\b\b\b\b\b\b\b\b\b\b\b\b\b\b\b\b\b\b\b\b\b\b\b\b\b\b\b\b\b\b\b\b\b\b\b\b\b\b\b\b\b\b\b\b\b\b\b\b\b\b\b\b\b\b\b\b\b\b\b\b\b\b\b\b\b\b\b\b\b\b\b\b\b\b\b\b\b\b\b\b\b\b\b\b\b\b\b\b\b\b\b\b\b\b\r875/875 [==============================] - 102s 117ms/step - loss: 2.8881 - accuracy: 0.5411 - auc: 0.7249 - val_loss: 0.9436 - val_accuracy: 0.5688 - val_auc: 0.7415\n",
            "Epoch 3/20\n",
            "875/875 [==============================] - ETA: 0s - loss: 2.8495 - accuracy: 0.5520 - auc: 0.7353"
          ]
        },
        {
          "output_type": "stream",
          "name": "stderr",
          "text": [
            "WARNING:absl:Found untraced functions such as _update_step_xla, lstm_cell_layer_call_fn, lstm_cell_layer_call_and_return_conditional_losses, lstm_cell_1_layer_call_fn, lstm_cell_1_layer_call_and_return_conditional_losses while saving (showing 5 of 7). These functions will not be directly callable after loading.\n"
          ]
        },
        {
          "output_type": "stream",
          "name": "stdout",
          "text": [
            "\b\b\b\b\b\b\b\b\b\b\b\b\b\b\b\b\b\b\b\b\b\b\b\b\b\b\b\b\b\b\b\b\b\b\b\b\b\b\b\b\b\b\b\b\b\b\b\b\b\b\b\b\b\b\b\b\b\b\b\b\b\b\b\b\b\b\b\b\b\b\b\b\b\b\b\b\b\b\b\b\b\b\b\b\b\b\b\b\b\b\b\b\b\b\b\b\b\b\r875/875 [==============================] - 101s 116ms/step - loss: 2.8495 - accuracy: 0.5520 - auc: 0.7353 - val_loss: 0.9336 - val_accuracy: 0.5693 - val_auc: 0.7442\n",
            "Epoch 4/20\n",
            "875/875 [==============================] - ETA: 0s - loss: 2.8235 - accuracy: 0.5575 - auc: 0.7411"
          ]
        },
        {
          "output_type": "stream",
          "name": "stderr",
          "text": [
            "WARNING:absl:Found untraced functions such as _update_step_xla, lstm_cell_layer_call_fn, lstm_cell_layer_call_and_return_conditional_losses, lstm_cell_1_layer_call_fn, lstm_cell_1_layer_call_and_return_conditional_losses while saving (showing 5 of 7). These functions will not be directly callable after loading.\n"
          ]
        },
        {
          "output_type": "stream",
          "name": "stdout",
          "text": [
            "\b\b\b\b\b\b\b\b\b\b\b\b\b\b\b\b\b\b\b\b\b\b\b\b\b\b\b\b\b\b\b\b\b\b\b\b\b\b\b\b\b\b\b\b\b\b\b\b\b\b\b\b\b\b\b\b\b\b\b\b\b\b\b\b\b\b\b\b\b\b\b\b\b\b\b\b\b\b\b\b\b\b\b\b\b\b\b\b\b\b\b\b\b\b\b\b\b\b\r875/875 [==============================] - 95s 109ms/step - loss: 2.8235 - accuracy: 0.5575 - auc: 0.7411 - val_loss: 0.9246 - val_accuracy: 0.5735 - val_auc: 0.7503\n",
            "Epoch 5/20\n",
            "875/875 [==============================] - ETA: 0s - loss: 2.8055 - accuracy: 0.5646 - auc: 0.7456"
          ]
        },
        {
          "output_type": "stream",
          "name": "stderr",
          "text": [
            "WARNING:absl:Found untraced functions such as _update_step_xla, lstm_cell_layer_call_fn, lstm_cell_layer_call_and_return_conditional_losses, lstm_cell_1_layer_call_fn, lstm_cell_1_layer_call_and_return_conditional_losses while saving (showing 5 of 7). These functions will not be directly callable after loading.\n"
          ]
        },
        {
          "output_type": "stream",
          "name": "stdout",
          "text": [
            "\b\b\b\b\b\b\b\b\b\b\b\b\b\b\b\b\b\b\b\b\b\b\b\b\b\b\b\b\b\b\b\b\b\b\b\b\b\b\b\b\b\b\b\b\b\b\b\b\b\b\b\b\b\b\b\b\b\b\b\b\b\b\b\b\b\b\b\b\b\b\b\b\b\b\b\b\b\b\b\b\b\b\b\b\b\b\b\b\b\b\b\b\b\b\b\b\b\b\r875/875 [==============================] - 112s 128ms/step - loss: 2.8055 - accuracy: 0.5646 - auc: 0.7456 - val_loss: 0.9229 - val_accuracy: 0.5767 - val_auc: 0.7539\n",
            "Epoch 6/20\n",
            "875/875 [==============================] - 82s 93ms/step - loss: 2.7938 - accuracy: 0.5644 - auc: 0.7484 - val_loss: 0.9444 - val_accuracy: 0.5690 - val_auc: 0.7424\n",
            "Epoch 7/20\n",
            "875/875 [==============================] - ETA: 0s - loss: 2.7795 - accuracy: 0.5673 - auc: 0.7515"
          ]
        },
        {
          "output_type": "stream",
          "name": "stderr",
          "text": [
            "WARNING:absl:Found untraced functions such as _update_step_xla, lstm_cell_layer_call_fn, lstm_cell_layer_call_and_return_conditional_losses, lstm_cell_1_layer_call_fn, lstm_cell_1_layer_call_and_return_conditional_losses while saving (showing 5 of 7). These functions will not be directly callable after loading.\n"
          ]
        },
        {
          "output_type": "stream",
          "name": "stdout",
          "text": [
            "\b\b\b\b\b\b\b\b\b\b\b\b\b\b\b\b\b\b\b\b\b\b\b\b\b\b\b\b\b\b\b\b\b\b\b\b\b\b\b\b\b\b\b\b\b\b\b\b\b\b\b\b\b\b\b\b\b\b\b\b\b\b\b\b\b\b\b\b\b\b\b\b\b\b\b\b\b\b\b\b\b\b\b\b\b\b\b\b\b\b\b\b\b\b\b\b\b\b\r875/875 [==============================] - 99s 113ms/step - loss: 2.7795 - accuracy: 0.5673 - auc: 0.7515 - val_loss: 0.9103 - val_accuracy: 0.5848 - val_auc: 0.7602\n",
            "Epoch 8/20\n",
            "875/875 [==============================] - 98s 112ms/step - loss: 2.7665 - accuracy: 0.5713 - auc: 0.7547 - val_loss: 0.9524 - val_accuracy: 0.5618 - val_auc: 0.7415\n",
            "Epoch 9/20\n",
            "875/875 [==============================] - 98s 112ms/step - loss: 2.7538 - accuracy: 0.5748 - auc: 0.7569 - val_loss: 0.9225 - val_accuracy: 0.5848 - val_auc: 0.7584\n",
            "Epoch 10/20\n",
            "875/875 [==============================] - 92s 106ms/step - loss: 2.7425 - accuracy: 0.5795 - auc: 0.7598 - val_loss: 0.9284 - val_accuracy: 0.5747 - val_auc: 0.7510\n",
            "Epoch 11/20\n",
            "875/875 [==============================] - 97s 111ms/step - loss: 2.7245 - accuracy: 0.5833 - auc: 0.7636 - val_loss: 0.9363 - val_accuracy: 0.5713 - val_auc: 0.7516\n",
            "Epoch 12/20\n",
            "875/875 [==============================] - ETA: 0s - loss: 2.7173 - accuracy: 0.5822 - auc: 0.7651"
          ]
        },
        {
          "output_type": "stream",
          "name": "stderr",
          "text": [
            "WARNING:absl:Found untraced functions such as _update_step_xla, lstm_cell_layer_call_fn, lstm_cell_layer_call_and_return_conditional_losses, lstm_cell_1_layer_call_fn, lstm_cell_1_layer_call_and_return_conditional_losses while saving (showing 5 of 7). These functions will not be directly callable after loading.\n"
          ]
        },
        {
          "output_type": "stream",
          "name": "stdout",
          "text": [
            "\b\b\b\b\b\b\b\b\b\b\b\b\b\b\b\b\b\b\b\b\b\b\b\b\b\b\b\b\b\b\b\b\b\b\b\b\b\b\b\b\b\b\b\b\b\b\b\b\b\b\b\b\b\b\b\b\b\b\b\b\b\b\b\b\b\b\b\b\b\b\b\b\b\b\b\b\b\b\b\b\b\b\b\b\b\b\b\b\b\b\b\b\b\b\b\b\b\b\r875/875 [==============================] - 112s 128ms/step - loss: 2.7173 - accuracy: 0.5822 - auc: 0.7651 - val_loss: 0.9048 - val_accuracy: 0.5923 - val_auc: 0.7651\n",
            "Epoch 13/20\n",
            "875/875 [==============================] - 82s 94ms/step - loss: 2.7001 - accuracy: 0.5890 - auc: 0.7688 - val_loss: 0.9338 - val_accuracy: 0.5687 - val_auc: 0.7514\n",
            "Epoch 14/20\n",
            "875/875 [==============================] - 75s 86ms/step - loss: 2.6963 - accuracy: 0.5914 - auc: 0.7695 - val_loss: 0.9166 - val_accuracy: 0.5777 - val_auc: 0.7577\n",
            "Epoch 15/20\n",
            "875/875 [==============================] - ETA: 0s - loss: 2.6832 - accuracy: 0.5908 - auc: 0.7721"
          ]
        },
        {
          "output_type": "stream",
          "name": "stderr",
          "text": [
            "WARNING:absl:Found untraced functions such as _update_step_xla, lstm_cell_layer_call_fn, lstm_cell_layer_call_and_return_conditional_losses, lstm_cell_1_layer_call_fn, lstm_cell_1_layer_call_and_return_conditional_losses while saving (showing 5 of 7). These functions will not be directly callable after loading.\n"
          ]
        },
        {
          "output_type": "stream",
          "name": "stdout",
          "text": [
            "\b\b\b\b\b\b\b\b\b\b\b\b\b\b\b\b\b\b\b\b\b\b\b\b\b\b\b\b\b\b\b\b\b\b\b\b\b\b\b\b\b\b\b\b\b\b\b\b\b\b\b\b\b\b\b\b\b\b\b\b\b\b\b\b\b\b\b\b\b\b\b\b\b\b\b\b\b\b\b\b\b\b\b\b\b\b\b\b\b\b\b\b\b\b\b\b\b\b\r875/875 [==============================] - 91s 104ms/step - loss: 2.6832 - accuracy: 0.5908 - auc: 0.7721 - val_loss: 0.9046 - val_accuracy: 0.5852 - val_auc: 0.7663\n",
            "Epoch 16/20\n",
            "875/875 [==============================] - 84s 96ms/step - loss: 2.6738 - accuracy: 0.5932 - auc: 0.7739 - val_loss: 0.9274 - val_accuracy: 0.5745 - val_auc: 0.7541\n",
            "Epoch 17/20\n",
            "875/875 [==============================] - ETA: 0s - loss: 2.6701 - accuracy: 0.5944 - auc: 0.7750"
          ]
        },
        {
          "output_type": "stream",
          "name": "stderr",
          "text": [
            "WARNING:absl:Found untraced functions such as _update_step_xla, lstm_cell_layer_call_fn, lstm_cell_layer_call_and_return_conditional_losses, lstm_cell_1_layer_call_fn, lstm_cell_1_layer_call_and_return_conditional_losses while saving (showing 5 of 7). These functions will not be directly callable after loading.\n"
          ]
        },
        {
          "output_type": "stream",
          "name": "stdout",
          "text": [
            "\b\b\b\b\b\b\b\b\b\b\b\b\b\b\b\b\b\b\b\b\b\b\b\b\b\b\b\b\b\b\b\b\b\b\b\b\b\b\b\b\b\b\b\b\b\b\b\b\b\b\b\b\b\b\b\b\b\b\b\b\b\b\b\b\b\b\b\b\b\b\b\b\b\b\b\b\b\b\b\b\b\b\b\b\b\b\b\b\b\b\b\b\b\b\b\b\b\b\r875/875 [==============================] - 101s 115ms/step - loss: 2.6701 - accuracy: 0.5944 - auc: 0.7750 - val_loss: 0.8979 - val_accuracy: 0.5937 - val_auc: 0.7703\n",
            "Epoch 18/20\n",
            "875/875 [==============================] - 90s 103ms/step - loss: 2.6608 - accuracy: 0.5958 - auc: 0.7768 - val_loss: 0.9131 - val_accuracy: 0.5847 - val_auc: 0.7609\n",
            "Epoch 19/20\n",
            "875/875 [==============================] - 89s 102ms/step - loss: 2.6491 - accuracy: 0.5995 - auc: 0.7791 - val_loss: 0.9146 - val_accuracy: 0.5840 - val_auc: 0.7612\n",
            "Epoch 20/20\n",
            "875/875 [==============================] - 86s 99ms/step - loss: 2.6448 - accuracy: 0.6002 - auc: 0.7800 - val_loss: 0.9108 - val_accuracy: 0.5865 - val_auc: 0.7647\n"
          ]
        },
        {
          "output_type": "execute_result",
          "data": {
            "text/plain": [
              "<keras.callbacks.History at 0x7f11bb8c17b0>"
            ]
          },
          "metadata": {},
          "execution_count": 51
        }
      ],
      "source": [
        "\n",
        "\n",
        "model.fit(tf.convert_to_tensor(word_train), tf.convert_to_tensor(feel_train), validation_data=(tf.convert_to_tensor(word_val), tf.convert_to_tensor(feel_val)), epochs=20, callbacks=[cp], class_weight=weights)\n"
      ]
    },
    {
      "cell_type": "code",
      "execution_count": 52,
      "metadata": {
        "id": "0GehHUM_aQt6"
      },
      "outputs": [],
      "source": [
        "from tensorflow.keras.models import load_model\n",
        "\n",
        "best_model = load_model('model/')"
      ]
    },
    {
      "cell_type": "code",
      "execution_count": 69,
      "metadata": {
        "id": "SA56tMzJaTOH",
        "colab": {
          "base_uri": "https://localhost:8080/"
        },
        "outputId": "f94db665-3b11-4b71-d13f-5dbcf872c2b7"
      },
      "outputs": [
        {
          "output_type": "stream",
          "name": "stdout",
          "text": [
            "188/188 [==============================] - 6s 33ms/step\n",
            "[[0.12367542 0.25386485 0.6224598 ]\n",
            " [0.7277098  0.09531482 0.17697537]\n",
            " [0.24751244 0.06720192 0.6852857 ]\n",
            " ...\n",
            " [0.52078307 0.16503447 0.3141825 ]\n",
            " [0.1668983  0.17239393 0.6607078 ]\n",
            " [0.8534571  0.08443864 0.06210428]]\n"
          ]
        }
      ],
      "source": [
        "\n",
        "test_predictions = best_model.predict(word_test)\n",
        "print(test_predictions)\n",
        "\n",
        "# from sklearn.metrics import classification_report\n",
        "\n",
        "# print(classification_report(feel_test, test_predictions))"
      ]
    }
  ],
  "metadata": {
    "colab": {
      "provenance": [],
      "authorship_tag": "ABX9TyM1g6zVrKjX1MUqrJ6ptjk9",
      "include_colab_link": true
    },
    "kernelspec": {
      "display_name": "Python 3",
      "name": "python3"
    },
    "language_info": {
      "name": "python"
    }
  },
  "nbformat": 4,
  "nbformat_minor": 0
}