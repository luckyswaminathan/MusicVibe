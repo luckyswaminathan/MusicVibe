{
  "cells": [
    {
      "cell_type": "markdown",
      "metadata": {
        "id": "view-in-github",
        "colab_type": "text"
      },
      "source": [
        "<a href=\"https://colab.research.google.com/github/luckyswaminathan/MusicVibe/blob/main/gloVeNLP.ipynb\" target=\"_parent\"><img src=\"https://colab.research.google.com/assets/colab-badge.svg\" alt=\"Open In Colab\"/></a>"
      ]
    },
    {
      "cell_type": "code",
      "execution_count": 1,
      "metadata": {
        "id": "Lb2lO6knH3lx"
      },
      "outputs": [],
      "source": [
        "## imports\n",
        "## gloVe credits:\n",
        "## Jeffrey Pennington, Richard Socher, and Christopher D. Manning. 2014. GloVe: Global Vectors for Word Representation. [pdf] [bib]\n",
        "## am adapting structure given by https://www.youtube.com/watch?v=e0WW5w13V64&t=68s&ab_channel=GregHogg to create\n",
        "## an NLP model for my app Music Vibe (data source requires no credits as is open source)\n",
        "import numpy as np\n",
        "import pandas as pd\n",
        "import tensorflow as tf\n",
        "from sklearn.model_selection import train_test_split"
      ]
    },
    {
      "cell_type": "code",
      "execution_count": 2,
      "metadata": {
        "colab": {
          "base_uri": "https://localhost:8080/"
        },
        "id": "QrTRqCb9IGnw",
        "outputId": "84766484-0e5b-4571-8758-550052bb0d3c"
      },
      "outputs": [
        {
          "output_type": "execute_result",
          "data": {
            "text/plain": [
              "[0, 0, 1]    15299\n",
              "[1, 0, 0]    15057\n",
              "[0, 1, 0]     9644\n",
              "Name: sentiment, dtype: int64"
            ]
          },
          "metadata": {},
          "execution_count": 2
        }
      ],
      "source": [
        "url = 'https://raw.githubusercontent.com/luckyswaminathan/MusicVibe/main/tweet_emotions.csv'\n",
        "\n",
        "msc_df = pd.read_csv(url)\n",
        "\n",
        "\n",
        "sentiment_mapping = dict.fromkeys([\"anger\", \"hate\", \"sadness\", \"worry\"], (np.array([1,0,0])))\n",
        "\n",
        "sentiment_mapping.update(dict.fromkeys([\"boredom\", \"empty\", \"neutral\"], (np.array([0,1,0]))))\n",
        "\n",
        "sentiment_mapping.update(dict.fromkeys([\"enthusiasm\", \"fun\", \"happiness\", \"love\", \"relief\", \"surprise\"], (np.array([0,0,1]))))\n",
        "\n",
        "msc_df['sentiment'] = msc_df['sentiment'].map(sentiment_mapping)\n",
        "\n",
        "# Map the sentiment values using the mapping dictionary\n",
        "\n",
        "\n",
        "# Check the value counts\n",
        "msc_df['sentiment'].value_counts()\n",
        "\n"
      ]
    },
    {
      "cell_type": "code",
      "execution_count": 3,
      "metadata": {
        "colab": {
          "base_uri": "https://localhost:8080/"
        },
        "id": "aC319LOGEj2u",
        "outputId": "148407de-ff5e-445f-f806-033d0b4c2888"
      },
      "outputs": [
        {
          "output_type": "stream",
          "name": "stdout",
          "text": [
            "--2023-06-13 19:34:44--  http://downloads.cs.stanford.edu/nlp/data/glove.twitter.27B.zip\n",
            "Resolving downloads.cs.stanford.edu (downloads.cs.stanford.edu)... 171.64.64.22\n",
            "Connecting to downloads.cs.stanford.edu (downloads.cs.stanford.edu)|171.64.64.22|:80... connected.\n",
            "HTTP request sent, awaiting response... 200 OK\n",
            "Length: 1520408563 (1.4G) [application/zip]\n",
            "Saving to: ‘glove.twitter.27B.zip’\n",
            "\n",
            "glove.twitter.27B.z 100%[===================>]   1.42G  5.33MB/s    in 4m 47s  \n",
            "\n",
            "2023-06-13 19:39:31 (5.06 MB/s) - ‘glove.twitter.27B.zip’ saved [1520408563/1520408563]\n",
            "\n"
          ]
        }
      ],
      "source": [
        "## using gloVE rather than word2vec because works better with small dataset\n",
        "\n",
        "!wget http://downloads.cs.stanford.edu/nlp/data/glove.twitter.27B.zip"
      ]
    },
    {
      "cell_type": "code",
      "execution_count": null,
      "metadata": {
        "colab": {
          "base_uri": "https://localhost:8080/"
        },
        "id": "kX9uc8B2UjpP",
        "outputId": "b772b87b-8b25-4a3e-c604-a3072eb07558"
      },
      "outputs": [
        {
          "name": "stdout",
          "output_type": "stream",
          "text": [
            "Drive already mounted at /content/drive; to attempt to forcibly remount, call drive.mount(\"/content/drive\", force_remount=True).\n"
          ]
        }
      ],
      "source": [
        "from google.colab import drive\n",
        "drive.mount('/content/drive')"
      ]
    },
    {
      "cell_type": "code",
      "execution_count": 4,
      "metadata": {
        "colab": {
          "base_uri": "https://localhost:8080/"
        },
        "id": "2hpgpOLwFhAR",
        "outputId": "d86cbd8b-88bc-416b-860b-f27681460d3e"
      },
      "outputs": [
        {
          "output_type": "stream",
          "name": "stdout",
          "text": [
            "Archive:  glove.twitter.27B.zip\n",
            "  inflating: glove.twitter.27B.25d.txt  \n",
            "  inflating: glove.twitter.27B.50d.txt  \n",
            "  inflating: glove.twitter.27B.100d.txt  \n",
            "  inflating: glove.twitter.27B.200d.txt  \n"
          ]
        }
      ],
      "source": [
        "!unzip glove.twitter.27B.zip"
      ]
    },
    {
      "cell_type": "code",
      "execution_count": 5,
      "metadata": {
        "colab": {
          "base_uri": "https://localhost:8080/"
        },
        "id": "Zq8mjp05FzWp",
        "outputId": "85f0e321-99bc-4a41-8fa3-a382259617c4"
      },
      "outputs": [
        {
          "output_type": "execute_result",
          "data": {
            "text/plain": [
              "1193514"
            ]
          },
          "metadata": {},
          "execution_count": 5
        }
      ],
      "source": [
        "words = dict()\n",
        "def add_to_dict(d, filename):\n",
        "  with open(filename, 'r') as f:\n",
        "    for line in f.readlines():\n",
        "      line = line.split(' ')\n",
        "      d[line[0]] = np.array(line[1:], dtype=float)\n",
        "\n",
        "add_to_dict(words, 'glove.twitter.27B.50d.txt')\n",
        "len(words)"
      ]
    },
    {
      "cell_type": "code",
      "execution_count": 6,
      "metadata": {
        "colab": {
          "base_uri": "https://localhost:8080/"
        },
        "id": "93o47vgnKroC",
        "outputId": "daf4dd41-20a1-4698-fbe6-fe0c8ab5c319"
      },
      "outputs": [
        {
          "output_type": "stream",
          "name": "stderr",
          "text": [
            "[nltk_data] Downloading package wordnet to /root/nltk_data...\n"
          ]
        },
        {
          "output_type": "execute_result",
          "data": {
            "text/plain": [
              "True"
            ]
          },
          "metadata": {},
          "execution_count": 6
        }
      ],
      "source": [
        "import nltk as nl\n",
        "nl.download('wordnet')"
      ]
    },
    {
      "cell_type": "code",
      "execution_count": 7,
      "metadata": {
        "id": "xsyFBAslLOxV"
      },
      "outputs": [],
      "source": [
        "tokenizer = nl.RegexpTokenizer(r\"\\w+\")\n",
        "\n",
        "## LEMMATIZATION -- concatenating variants of a word to one form\n",
        "\n",
        "from nltk.stem import WordNetLemmatizer\n",
        "\n",
        "lemmatizer = WordNetLemmatizer()\n",
        "\n",
        "\n",
        "## tokenizes and lemmatizes all words that are in gloVe word set\n",
        "def tokenLem(s):\n",
        "  tokens = tokenizer.tokenize(s)\n",
        "  tokens = [word.lower() for word in tokens]\n",
        "  tokens = [lemmatizer.lemmatize(word) for word in tokens]\n",
        "  tokens = [word for word in tokens if word in words]\n",
        "\n",
        "  return tokens\n"
      ]
    },
    {
      "cell_type": "code",
      "execution_count": 8,
      "metadata": {
        "id": "CKoIPsRkQLa5"
      },
      "outputs": [],
      "source": [
        "def message_to_word_vectors(message, word_dict=words):\n",
        "  processed_list_of_tokens = tokenLem(message)\n",
        "\n",
        "  vectors = []\n",
        "\n",
        "  for token in processed_list_of_tokens:\n",
        "    if token not in word_dict:\n",
        "      continue\n",
        "\n",
        "    token_vector = word_dict[token]\n",
        "    vectors.append(token_vector)\n",
        "\n",
        "  return np.array(vectors, dtype=float)\n",
        "\n",
        ""
      ]
    },
    {
      "cell_type": "code",
      "execution_count": 9,
      "metadata": {
        "colab": {
          "base_uri": "https://localhost:8080/"
        },
        "id": "Yf-YZUgDQ1P4",
        "outputId": "7fd3a2ce-7d3d-4382-d60a-0a433fbea747"
      },
      "outputs": [
        {
          "output_type": "execute_result",
          "data": {
            "text/plain": [
              "(28000, 6000, 6000)"
            ]
          },
          "metadata": {},
          "execution_count": 9
        }
      ],
      "source": [
        "## train_test_split\n",
        "\n",
        "\n",
        "\n",
        "train_df, mix_df = train_test_split(msc_df, random_state=42, test_size = 0.3)\n",
        "\n",
        "val_df, test_df = train_test_split(mix_df, random_state=42, test_size = 0.5)\n",
        "\n",
        "\n",
        "len(train_df), len(val_df), len(test_df)\n"
      ]
    },
    {
      "cell_type": "code",
      "execution_count": 10,
      "metadata": {
        "id": "ud1E0jtERyWa"
      },
      "outputs": [],
      "source": [
        "## splitting train,val, test into sentiment and content\n",
        "\n",
        "\n",
        "def df_to_SC(dff):\n",
        "  ## sentiment for sentence\n",
        "  y = dff['sentiment'].to_numpy()\n",
        "\n",
        "  ## content array\n",
        "  all_word_vector_sequences = []\n",
        "\n",
        "  for message in dff['content']:\n",
        "    message_as_vector_seq = message_to_word_vectors(message)\n",
        "\n",
        "    if message_as_vector_seq.shape[0] == 0:\n",
        "      message_as_vector_seq = np.zeros(shape=(1, 50))\n",
        "\n",
        "    all_word_vector_sequences.append(message_as_vector_seq)\n",
        "\n",
        "  return all_word_vector_sequences, y\n",
        "\n",
        "\n"
      ]
    },
    {
      "cell_type": "code",
      "execution_count": 11,
      "metadata": {
        "colab": {
          "base_uri": "https://localhost:8080/"
        },
        "id": "t6hmU-yqVYHv",
        "outputId": "c68b0ba6-5e80-4059-e4c1-57fad4b5184d"
      },
      "outputs": [
        {
          "output_type": "execute_result",
          "data": {
            "text/plain": [
              "26"
            ]
          },
          "metadata": {},
          "execution_count": 11
        }
      ],
      "source": [
        "word_train, feel_train = df_to_SC(train_df)\n",
        "\n",
        "\n",
        "\n",
        "len(word_train[0])"
      ]
    },
    {
      "cell_type": "code",
      "execution_count": 12,
      "metadata": {
        "colab": {
          "base_uri": "https://localhost:8080/",
          "height": 501
        },
        "id": "crznmovIz67i",
        "outputId": "717d4d46-2215-40df-df2d-99e43b484637"
      },
      "outputs": [
        {
          "output_type": "execute_result",
          "data": {
            "text/plain": [
              "(array([3180., 4294., 5883., 3589., 4014., 2663., 2932., 1152.,  282.,\n",
              "          11.]),\n",
              " array([ 1. ,  4.5,  8. , 11.5, 15. , 18.5, 22. , 25.5, 29. , 32.5, 36. ]),\n",
              " <BarContainer object of 10 artists>)"
            ]
          },
          "metadata": {},
          "execution_count": 12
        },
        {
          "output_type": "display_data",
          "data": {
            "text/plain": [
              "<Figure size 640x480 with 1 Axes>"
            ],
            "image/png": "[encoded data removed]"
          },
          "metadata": {}
        }
      ],
      "source": [
        "sequence_lengths = []\n",
        "\n",
        "for i in range(len(word_train)):\n",
        "  sequence_lengths.append(len(word_train[i]))\n",
        "\n",
        "import matplotlib.pyplot as plt\n",
        "\n",
        "plt.hist(sequence_lengths)"
      ]
    },
    {
      "cell_type": "code",
      "execution_count": 13,
      "metadata": {
        "id": "auICpM1MUnM8"
      },
      "outputs": [],
      "source": [
        "## making the df into a np array\n",
        "\n",
        "from copy import deepcopy\n",
        "\n",
        "def pad_X(X, desired_sequence_length=38):\n",
        "  X_copy = deepcopy(X)\n",
        "\n",
        "  for i, x in enumerate(X):\n",
        "    x_seq_len = x.shape[0]\n",
        "    sequence_length_difference = desired_sequence_length - x_seq_len\n",
        "\n",
        "    pad = np.zeros(shape=(sequence_length_difference, 50))\n",
        "\n",
        "    X_copy[i] = np.concatenate([x, pad])\n",
        "\n",
        "  return np.array(X_copy).astype(float)"
      ]
    },
    {
      "cell_type": "code",
      "execution_count": 14,
      "metadata": {
        "colab": {
          "base_uri": "https://localhost:8080/"
        },
        "id": "IujKGkq0U4aQ",
        "outputId": "492dc9de-0a80-4305-bfbf-812486f457ce"
      },
      "outputs": [
        {
          "output_type": "stream",
          "name": "stdout",
          "text": [
            "38\n"
          ]
        }
      ],
      "source": [
        "word_train = pad_X(word_train)\n",
        "print(len(word_train[0]))\n",
        "\n",
        "\n",
        "word_val, feel_val = df_to_SC(val_df)\n",
        "word_val = pad_X(word_val)\n",
        "\n",
        "word_test, feel_test = df_to_SC(test_df)\n",
        "word_test = pad_X(word_test)\n",
        "\n",
        "\n"
      ]
    },
    {
      "cell_type": "code",
      "execution_count": 28,
      "metadata": {
        "id": "ZVh_Q6BsY2or"
      },
      "outputs": [],
      "source": [
        "## LSTM model\n",
        "\n",
        "from tensorflow.keras import layers\n",
        "from tensorflow.keras.models import Sequential\n",
        "import keras\n",
        "\n",
        "model = Sequential()\n",
        "\n",
        "model.add(layers.Input(shape=(38, 50)))\n",
        "model.add(layers.LSTM(128, return_sequences=True))\n",
        "model.add(layers.Dropout(0.2))\n",
        "l1_regularization = keras.regularizers.l1(0.05)  #\n",
        "model.add(keras.layers.Dense(units=64, activation='relu', kernel_regularizer=l1_regularization))\n",
        "model.add(layers.LSTM(64, return_sequences=True))\n",
        "l2_regularization = keras.regularizers.l2(0.05)\n",
        "model.add(keras.layers.Dense(units=64, activation = 'relu', kernel_regularizer=l2_regularization))\n",
        "model.add(layers.LSTM(64, return_sequences=True))\n",
        "model.add(layers.Dropout(0.2))\n",
        "model.add(layers.Flatten())\n",
        "model.add(layers.Dense(3, activation='softmax'))\n"
      ]
    },
    {
      "cell_type": "code",
      "execution_count": 29,
      "metadata": {
        "id": "bnJGkyVqY7Gr"
      },
      "outputs": [],
      "source": [
        "from tensorflow.keras.losses import CategoricalCrossentropy\n",
        "from tensorflow.keras.optimizers import Adam\n",
        "from tensorflow.keras.metrics import AUC\n",
        "from tensorflow.keras.callbacks import ModelCheckpoint\n",
        "\n",
        "cp = ModelCheckpoint('model/', save_best_only=True)\n",
        "\n",
        "model.compile(optimizer=Adam(learning_rate=0.001),\n",
        "              loss=CategoricalCrossentropy(),\n",
        "              metrics=['accuracy', AUC(name='auc')])"
      ]
    },
    {
      "cell_type": "code",
      "execution_count": null,
      "metadata": {
        "colab": {
          "base_uri": "https://localhost:8080/"
        },
        "id": "MryW-w16X5yY",
        "outputId": "1d97adfe-2a30-474a-95b1-3d93eb9fc7e2"
      },
      "outputs": [
        {
          "name": "stdout",
          "output_type": "stream",
          "text": [
            "[array([1, 0, 0]) array([0, 1, 0]) array([0, 1, 0]) ... array([0, 0, 1])\n",
            " array([1, 0, 0]) array([0, 0, 1])]\n"
          ]
        }
      ],
      "source": [
        "print(feel_train)"
      ]
    },
    {
      "cell_type": "code",
      "execution_count": 30,
      "metadata": {
        "colab": {
          "base_uri": "https://localhost:8080/"
        },
        "id": "IpSzmVDPY_xJ",
        "outputId": "7e097638-b079-4d3f-9d46-8bf35971476e"
      },
      "outputs": [
        {
          "output_type": "stream",
          "name": "stdout",
          "text": [
            "[0, 0, 1]    10695\n",
            "[1, 0, 0]    10580\n",
            "[0, 1, 0]     6725\n",
            "Name: sentiment, dtype: int64\n"
          ]
        },
        {
          "output_type": "execute_result",
          "data": {
            "text/plain": [
              "{0: 2.6180458158017763, 1: 2.6465028355387523, 2: 4.163568773234201}"
            ]
          },
          "metadata": {},
          "execution_count": 30
        }
      ],
      "source": [
        "frequencies = pd.value_counts(train_df['sentiment'])\n",
        "print(frequencies)\n",
        "## weighting loss function as datset imbalanced\n",
        "\n",
        "weights = {0: frequencies.sum() / frequencies[0], 1: frequencies.sum() / frequencies[1], 2: frequencies.sum() / frequencies[2]}\n",
        "weights"
      ]
    },
    {
      "cell_type": "code",
      "execution_count": 31,
      "metadata": {
        "id": "4XZ8lC9z1KVn"
      },
      "outputs": [],
      "source": [
        "word_train = word_train.astype(np.float32)\n",
        "word_val = word_val.astype(np.float32)\n",
        "\n",
        "\n",
        "\n",
        "\n",
        "# Convert elements of feel_train to float32 type\n",
        "feel_train = np.array([np.array(arr, dtype=np.float32) for arr in feel_train])\n",
        "feel_val = np.array([np.array(arr, dtype=np.float32) for arr in feel_val])\n"
      ]
    },
    {
      "cell_type": "code",
      "execution_count": 32,
      "metadata": {
        "colab": {
          "base_uri": "https://localhost:8080/"
        },
        "id": "8A5sM7UvZD2y",
        "outputId": "8701f861-e857-47fa-883e-cbca6425fd7a"
      },
      "outputs": [
        {
          "output_type": "stream",
          "name": "stdout",
          "text": [
            "Epoch 1/40\n",
            "875/875 [==============================] - ETA: 0s - loss: 5.9204 - accuracy: 0.5102 - auc: 0.6925"
          ]
        },
        {
          "output_type": "stream",
          "name": "stderr",
          "text": [
            "WARNING:absl:Found untraced functions such as _update_step_xla, lstm_cell_9_layer_call_fn, lstm_cell_9_layer_call_and_return_conditional_losses, lstm_cell_10_layer_call_fn, lstm_cell_10_layer_call_and_return_conditional_losses while saving (showing 5 of 7). These functions will not be directly callable after loading.\n"
          ]
        },
        {
          "output_type": "stream",
          "name": "stdout",
          "text": [
            "\b\b\b\b\b\b\b\b\b\b\b\b\b\b\b\b\b\b\b\b\b\b\b\b\b\b\b\b\b\b\b\b\b\b\b\b\b\b\b\b\b\b\b\b\b\b\b\b\b\b\b\b\b\b\b\b\b\b\b\b\b\b\b\b\b\b\b\b\b\b\b\b\b\b\b\b\b\b\b\b\b\b\b\b\b\b\b\b\b\b\b\b\b\b\b\b\b\b\r875/875 [==============================] - 153s 167ms/step - loss: 5.9204 - accuracy: 0.5102 - auc: 0.6925 - val_loss: 1.0912 - val_accuracy: 0.5375 - val_auc: 0.7198\n",
            "Epoch 2/40\n",
            "875/875 [==============================] - ETA: 0s - loss: 2.9596 - accuracy: 0.5573 - auc: 0.7370"
          ]
        },
        {
          "output_type": "stream",
          "name": "stderr",
          "text": [
            "WARNING:absl:Found untraced functions such as _update_step_xla, lstm_cell_9_layer_call_fn, lstm_cell_9_layer_call_and_return_conditional_losses, lstm_cell_10_layer_call_fn, lstm_cell_10_layer_call_and_return_conditional_losses while saving (showing 5 of 7). These functions will not be directly callable after loading.\n"
          ]
        },
        {
          "output_type": "stream",
          "name": "stdout",
          "text": [
            "\b\b\b\b\b\b\b\b\b\b\b\b\b\b\b\b\b\b\b\b\b\b\b\b\b\b\b\b\b\b\b\b\b\b\b\b\b\b\b\b\b\b\b\b\b\b\b\b\b\b\b\b\b\b\b\b\b\b\b\b\b\b\b\b\b\b\b\b\b\b\b\b\b\b\b\b\b\b\b\b\b\b\b\b\b\b\b\b\b\b\b\b\b\b\b\b\b\b\r875/875 [==============================] - 141s 161ms/step - loss: 2.9596 - accuracy: 0.5573 - auc: 0.7370 - val_loss: 1.0171 - val_accuracy: 0.5892 - val_auc: 0.7643\n",
            "Epoch 3/40\n",
            "875/875 [==============================] - 117s 133ms/step - loss: 2.8844 - accuracy: 0.5778 - auc: 0.7528 - val_loss: 1.0174 - val_accuracy: 0.5867 - val_auc: 0.7574\n",
            "Epoch 4/40\n",
            "875/875 [==============================] - ETA: 0s - loss: 2.8195 - accuracy: 0.5935 - auc: 0.7664"
          ]
        },
        {
          "output_type": "stream",
          "name": "stderr",
          "text": [
            "WARNING:absl:Found untraced functions such as _update_step_xla, lstm_cell_9_layer_call_fn, lstm_cell_9_layer_call_and_return_conditional_losses, lstm_cell_10_layer_call_fn, lstm_cell_10_layer_call_and_return_conditional_losses while saving (showing 5 of 7). These functions will not be directly callable after loading.\n"
          ]
        },
        {
          "output_type": "stream",
          "name": "stdout",
          "text": [
            "\b\b\b\b\b\b\b\b\b\b\b\b\b\b\b\b\b\b\b\b\b\b\b\b\b\b\b\b\b\b\b\b\b\b\b\b\b\b\b\b\b\b\b\b\b\b\b\b\b\b\b\b\b\b\b\b\b\b\b\b\b\b\b\b\b\b\b\b\b\b\b\b\b\b\b\b\b\b\b\b\b\b\b\b\b\b\b\b\b\b\b\b\b\b\b\b\b\b\r875/875 [==============================] - 136s 156ms/step - loss: 2.8195 - accuracy: 0.5935 - auc: 0.7664 - val_loss: 0.9966 - val_accuracy: 0.6065 - val_auc: 0.7741\n",
            "Epoch 5/40\n",
            "875/875 [==============================] - ETA: 0s - loss: 2.7653 - accuracy: 0.6064 - auc: 0.7767"
          ]
        },
        {
          "output_type": "stream",
          "name": "stderr",
          "text": [
            "WARNING:absl:Found untraced functions such as _update_step_xla, lstm_cell_9_layer_call_fn, lstm_cell_9_layer_call_and_return_conditional_losses, lstm_cell_10_layer_call_fn, lstm_cell_10_layer_call_and_return_conditional_losses while saving (showing 5 of 7). These functions will not be directly callable after loading.\n"
          ]
        },
        {
          "output_type": "stream",
          "name": "stdout",
          "text": [
            "\b\b\b\b\b\b\b\b\b\b\b\b\b\b\b\b\b\b\b\b\b\b\b\b\b\b\b\b\b\b\b\b\b\b\b\b\b\b\b\b\b\b\b\b\b\b\b\b\b\b\b\b\b\b\b\b\b\b\b\b\b\b\b\b\b\b\b\b\b\b\b\b\b\b\b\b\b\b\b\b\b\b\b\b\b\b\b\b\b\b\b\b\b\b\b\b\b\b\r875/875 [==============================] - 140s 160ms/step - loss: 2.7653 - accuracy: 0.6064 - auc: 0.7767 - val_loss: 0.9832 - val_accuracy: 0.6032 - val_auc: 0.7780\n",
            "Epoch 6/40\n",
            "875/875 [==============================] - 117s 134ms/step - loss: 2.7251 - accuracy: 0.6143 - auc: 0.7838 - val_loss: 0.9890 - val_accuracy: 0.5997 - val_auc: 0.7715\n",
            "Epoch 7/40\n",
            "875/875 [==============================] - 116s 133ms/step - loss: 2.6749 - accuracy: 0.6260 - auc: 0.7935 - val_loss: 1.0052 - val_accuracy: 0.6043 - val_auc: 0.7748\n",
            "Epoch 8/40\n",
            "875/875 [==============================] - 114s 131ms/step - loss: 2.6278 - accuracy: 0.6388 - auc: 0.8023 - val_loss: 1.0014 - val_accuracy: 0.5935 - val_auc: 0.7699\n",
            "Epoch 9/40\n",
            "875/875 [==============================] - 115s 132ms/step - loss: 2.5722 - accuracy: 0.6462 - auc: 0.8119 - val_loss: 0.9957 - val_accuracy: 0.6003 - val_auc: 0.7744\n",
            "Epoch 10/40\n",
            "875/875 [==============================] - 116s 133ms/step - loss: 2.5117 - accuracy: 0.6619 - auc: 0.8219 - val_loss: 1.0128 - val_accuracy: 0.5963 - val_auc: 0.7647\n",
            "Epoch 11/40\n",
            "875/875 [==============================] - 115s 132ms/step - loss: 2.4286 - accuracy: 0.6790 - auc: 0.8349 - val_loss: 1.0126 - val_accuracy: 0.5995 - val_auc: 0.7681\n",
            "Epoch 12/40\n",
            "875/875 [==============================] - 116s 133ms/step - loss: 2.3612 - accuracy: 0.6929 - auc: 0.8454 - val_loss: 1.0888 - val_accuracy: 0.5953 - val_auc: 0.7614\n",
            "Epoch 13/40\n",
            "875/875 [==============================] - 115s 131ms/step - loss: 2.2739 - accuracy: 0.7055 - auc: 0.8570 - val_loss: 1.0435 - val_accuracy: 0.5940 - val_auc: 0.7671\n",
            "Epoch 14/40\n",
            "875/875 [==============================] - 115s 131ms/step - loss: 2.2004 - accuracy: 0.7202 - auc: 0.8671 - val_loss: 1.1269 - val_accuracy: 0.5888 - val_auc: 0.7592\n",
            "Epoch 15/40\n",
            "875/875 [==============================] - 116s 133ms/step - loss: 2.1259 - accuracy: 0.7329 - auc: 0.8762 - val_loss: 1.1072 - val_accuracy: 0.5877 - val_auc: 0.7560\n",
            "Epoch 16/40\n",
            "875/875 [==============================] - 111s 127ms/step - loss: 2.0497 - accuracy: 0.7451 - auc: 0.8852 - val_loss: 1.1154 - val_accuracy: 0.5758 - val_auc: 0.7425\n",
            "Epoch 17/40\n",
            "875/875 [==============================] - 115s 131ms/step - loss: 1.9933 - accuracy: 0.7547 - auc: 0.8918 - val_loss: 1.1915 - val_accuracy: 0.5700 - val_auc: 0.7432\n",
            "Epoch 18/40\n",
            "875/875 [==============================] - 115s 132ms/step - loss: 1.9222 - accuracy: 0.7653 - auc: 0.8997 - val_loss: 1.1874 - val_accuracy: 0.5730 - val_auc: 0.7456\n",
            "Epoch 19/40\n",
            "875/875 [==============================] - 122s 140ms/step - loss: 1.8483 - accuracy: 0.7763 - auc: 0.9073 - val_loss: 1.1998 - val_accuracy: 0.5767 - val_auc: 0.7376\n",
            "Epoch 20/40\n",
            "875/875 [==============================] - 111s 127ms/step - loss: 1.7941 - accuracy: 0.7843 - auc: 0.9128 - val_loss: 1.1928 - val_accuracy: 0.5740 - val_auc: 0.7391\n",
            "Epoch 21/40\n",
            "875/875 [==============================] - 115s 131ms/step - loss: 1.7368 - accuracy: 0.7955 - auc: 0.9181 - val_loss: 1.2191 - val_accuracy: 0.5713 - val_auc: 0.7371\n",
            "Epoch 22/40\n",
            "875/875 [==============================] - 117s 134ms/step - loss: 1.6948 - accuracy: 0.8029 - auc: 0.9219 - val_loss: 1.3249 - val_accuracy: 0.5705 - val_auc: 0.7345\n",
            "Epoch 23/40\n",
            "875/875 [==============================] - 121s 138ms/step - loss: 1.6461 - accuracy: 0.8093 - auc: 0.9268 - val_loss: 1.2429 - val_accuracy: 0.5717 - val_auc: 0.7276\n",
            "Epoch 24/40\n",
            "875/875 [==============================] - 115s 132ms/step - loss: 1.6045 - accuracy: 0.8163 - auc: 0.9304 - val_loss: 1.3594 - val_accuracy: 0.5597 - val_auc: 0.7182\n",
            "Epoch 25/40\n",
            "875/875 [==============================] - 111s 127ms/step - loss: 1.5504 - accuracy: 0.8266 - auc: 0.9349 - val_loss: 1.3433 - val_accuracy: 0.5735 - val_auc: 0.7281\n",
            "Epoch 26/40\n",
            "875/875 [==============================] - 115s 132ms/step - loss: 1.5402 - accuracy: 0.8280 - auc: 0.9356 - val_loss: 1.3965 - val_accuracy: 0.5732 - val_auc: 0.7263\n",
            "Epoch 27/40\n",
            "875/875 [==============================] - 114s 130ms/step - loss: 1.4834 - accuracy: 0.8323 - auc: 0.9405 - val_loss: 1.4112 - val_accuracy: 0.5605 - val_auc: 0.7219\n",
            "Epoch 28/40\n",
            "875/875 [==============================] - 112s 128ms/step - loss: 1.4255 - accuracy: 0.8433 - auc: 0.9445 - val_loss: 1.4281 - val_accuracy: 0.5497 - val_auc: 0.7156\n",
            "Epoch 29/40\n",
            "875/875 [==============================] - 111s 127ms/step - loss: 1.3969 - accuracy: 0.8441 - auc: 0.9470 - val_loss: 1.3623 - val_accuracy: 0.5567 - val_auc: 0.7158\n",
            "Epoch 30/40\n",
            "875/875 [==============================] - 114s 131ms/step - loss: 1.4139 - accuracy: 0.8435 - auc: 0.9456 - val_loss: 1.4737 - val_accuracy: 0.5660 - val_auc: 0.7179\n",
            "Epoch 31/40\n",
            "875/875 [==============================] - 113s 129ms/step - loss: 1.3721 - accuracy: 0.8504 - auc: 0.9490 - val_loss: 1.5501 - val_accuracy: 0.5567 - val_auc: 0.7157\n",
            "Epoch 32/40\n",
            "875/875 [==============================] - 115s 131ms/step - loss: 1.2720 - accuracy: 0.8629 - auc: 0.9554 - val_loss: 1.5625 - val_accuracy: 0.5583 - val_auc: 0.7080\n",
            "Epoch 33/40\n",
            "875/875 [==============================] - 114s 130ms/step - loss: 1.2543 - accuracy: 0.8656 - auc: 0.9567 - val_loss: 1.6229 - val_accuracy: 0.5580 - val_auc: 0.7070\n",
            "Epoch 34/40\n",
            "875/875 [==============================] - 111s 127ms/step - loss: 1.2422 - accuracy: 0.8677 - auc: 0.9572 - val_loss: 1.5668 - val_accuracy: 0.5497 - val_auc: 0.7035\n",
            "Epoch 35/40\n",
            "875/875 [==============================] - 116s 133ms/step - loss: 1.2082 - accuracy: 0.8726 - auc: 0.9598 - val_loss: 1.4747 - val_accuracy: 0.5602 - val_auc: 0.7046\n",
            "Epoch 36/40\n",
            "875/875 [==============================] - 110s 125ms/step - loss: 1.2115 - accuracy: 0.8702 - auc: 0.9597 - val_loss: 1.5709 - val_accuracy: 0.5577 - val_auc: 0.7089\n",
            "Epoch 37/40\n",
            "875/875 [==============================] - 112s 128ms/step - loss: 1.1857 - accuracy: 0.8753 - auc: 0.9614 - val_loss: 1.6232 - val_accuracy: 0.5625 - val_auc: 0.7133\n",
            "Epoch 38/40\n",
            "875/875 [==============================] - 112s 128ms/step - loss: 1.1084 - accuracy: 0.8864 - auc: 0.9660 - val_loss: 1.7146 - val_accuracy: 0.5532 - val_auc: 0.7042\n",
            "Epoch 39/40\n",
            "875/875 [==============================] - 113s 129ms/step - loss: 1.0905 - accuracy: 0.8890 - auc: 0.9664 - val_loss: 1.6540 - val_accuracy: 0.5532 - val_auc: 0.6968\n",
            "Epoch 40/40\n",
            "875/875 [==============================] - 113s 129ms/step - loss: 1.0941 - accuracy: 0.8876 - auc: 0.9668 - val_loss: 1.6664 - val_accuracy: 0.5528 - val_auc: 0.7086\n"
          ]
        },
        {
          "output_type": "execute_result",
          "data": {
            "text/plain": [
              "<keras.callbacks.History at 0x7efb87ead180>"
            ]
          },
          "metadata": {},
          "execution_count": 32
        }
      ],
      "source": [
        "\n",
        "\n",
        "model.fit(tf.convert_to_tensor(word_train), tf.convert_to_tensor(feel_train), validation_data=(tf.convert_to_tensor(word_val), tf.convert_to_tensor(feel_val)), epochs=40, callbacks=[cp], class_weight=weights)\n"
      ]
    },
    {
      "cell_type": "code",
      "execution_count": 35,
      "metadata": {
        "id": "0GehHUM_aQt6"
      },
      "outputs": [],
      "source": [
        "from tensorflow.keras.models import load_model\n",
        "\n",
        "best_model = load_model('model/')\n",
        "\n",
        "best_model.save(\"name.h5\")"
      ]
    },
    {
      "cell_type": "code",
      "execution_count": 34,
      "metadata": {
        "colab": {
          "base_uri": "https://localhost:8080/"
        },
        "id": "SA56tMzJaTOH",
        "outputId": "2aec7cc3-6430-4ad3-9856-56fa8acd44c7"
      },
      "outputs": [
        {
          "output_type": "stream",
          "name": "stdout",
          "text": [
            "188/188 [==============================] - 10s 43ms/step\n",
            "[[0.09389442 0.27623433 0.62987125]\n",
            " [0.63987505 0.14460124 0.2155237 ]\n",
            " [0.15992957 0.10186044 0.73821   ]\n",
            " ...\n",
            " [0.4088222  0.24776395 0.3434138 ]\n",
            " [0.076953   0.10082828 0.8222188 ]\n",
            " [0.8702171  0.06342348 0.06635942]]\n"
          ]
        }
      ],
      "source": [
        "\n",
        "test_predictions = best_model.predict(word_test)\n",
        "print(test_predictions)\n",
        "\n",
        "# from sklearn.metrics import classification_report\n",
        "\n",
        "# print(classification_report(feel_test, test_predictions))"
      ]
    }
  ],
  "metadata": {
    "colab": {
      "provenance": [],
      "authorship_tag": "ABX9TyPXekMWiMTRmUEQjXxWIxiX",
      "include_colab_link": true
    },
    "kernelspec": {
      "display_name": "Python 3",
      "name": "python3"
    },
    "language_info": {
      "name": "python"
    }
  },
  "nbformat": 4,
  "nbformat_minor": 0
}