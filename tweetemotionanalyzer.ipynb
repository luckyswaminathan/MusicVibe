{
  "nbformat": 4,
  "nbformat_minor": 0,
  "metadata": {
    "colab": {
      "provenance": [],
      "authorship_tag": "ABX9TyNpLFzCgG6t9gGc66NkiEC5",
      "include_colab_link": true
    },
    "kernelspec": {
      "name": "python3",
      "display_name": "Python 3"
    },
    "language_info": {
      "name": "python"
    }
  },
  "cells": [
    {
      "cell_type": "markdown",
      "metadata": {
        "id": "view-in-github",
        "colab_type": "text"
      },
      "source": [
        "<a href=\"https://colab.research.google.com/github/luckyswaminathan/MusicVibe/blob/main/tweetemotionanalyzer.ipynb\" target=\"_parent\"><img src=\"https://colab.research.google.com/assets/colab-badge.svg\" alt=\"Open In Colab\"/></a>"
      ]
    },
    {
      "cell_type": "code",
      "execution_count": 58,
      "metadata": {
        "id": "a-zoS4YOORin",
        "colab": {
          "base_uri": "https://localhost:8080/"
        },
        "outputId": "67e5c76e-9d6a-46e2-e3ac-589c62c5d2fd"
      },
      "outputs": [
        {
          "output_type": "stream",
          "name": "stderr",
          "text": [
            "[nltk_data] Downloading package punkt to /root/nltk_data...\n",
            "[nltk_data]   Package punkt is already up-to-date!\n"
          ]
        }
      ],
      "source": [
        "#@title Import relevant modules\n",
        "import numpy as np\n",
        "import pandas as pd\n",
        "import tensorflow as tf\n",
        "from tensorflow.keras import layers\n",
        "from matplotlib import pyplot as plt\n",
        "from sklearn.model_selection import train_test_split\n",
        "import nltk as nl\n",
        "from nltk import word_tokenize\n",
        "nl.download('punkt')\n",
        "\n",
        "\n",
        "# The following lines adjust the granularity of reporting. \n",
        "pd.options.display.max_rows = 10\n",
        "pd.options.display.float_format = \"{:.1f}\".format\n",
        "\n",
        "# The following line improves formatting when ouputting NumPy arrays.\n",
        "np.set_printoptions(linewidth = 200)\n",
        "\n",
        "#imports csv\n",
        "url = 'https://raw.githubusercontent.com/luckyswaminathan/MusicVibe/main/tweet_emotions.csv'\n",
        "\n",
        "msc_df = pd.read_csv(url)\n",
        "msc_df.drop_duplicates(keep='first')\n",
        "msc_df.drop(columns=\"tweet_id\", inplace = True)\n",
        "msc_df = msc_df.reindex(np.random.permutation(msc_df.index))"
      ]
    },
    {
      "cell_type": "code",
      "source": [
        "\n",
        "\n",
        "#tokenizing each sentence in msc_Df\n",
        "\n",
        "msc_df['content'] = (msc_df['content']).apply(word_tokenize)\n",
        "\n",
        "print(msc_df.head())\n",
        "# splitting the input/output parts\n",
        "\n",
        "\n",
        "rows = msc_df.shape[0]\n",
        "maxTrain =int(rows*0.8)\n",
        "\n",
        "words_train = msc_df[0:maxTrain]['content']\n",
        "words_test = msc_df[maxTrain+1:-1]['content']\n",
        "\n",
        "\n",
        "\n",
        "feelings_train = msc_df[0:maxTrain]['sentiment']\n",
        "feelings_test = msc_df[maxTrain+1:-1]['sentiment']\n",
        "\n",
        "\n",
        "# just a print to show the 13 different feelings in this data set\n",
        "print(np.unique(feelings_train))\n",
        "#how many words are in the entire data set: 39827\n",
        "print(\"There are this many unique words in the tweets: \" + str(len(np.unique(msc_df['content']))))\n"
      ],
      "metadata": {
        "id": "qWirAIOUPFSd",
        "colab": {
          "base_uri": "https://localhost:8080/"
        },
        "outputId": "20ca6308-b99f-4a66-c642-2a0ede28ff3d"
      },
      "execution_count": 59,
      "outputs": [
        {
          "output_type": "stream",
          "name": "stdout",
          "text": [
            "      sentiment                                            content\n",
            "20413    relief          [@, Abbie12, Thanks, !, Welcome, back, !]\n",
            "39120   neutral                              [Really, good, night]\n",
            "21043     worry  [@, ebruchez, Feels, good, ?, Now, the, hardes...\n",
            "7272       hate             [@, celticfish, this, is, a, travesty]\n",
            "24629       fun                   [Last, day, of, high, school, !]\n",
            "['anger' 'boredom' 'empty' 'enthusiasm' 'fun' 'happiness' 'hate' 'love' 'neutral' 'relief' 'sadness' 'surprise' 'worry']\n",
            "There are this many unique words in the tweets: 39820\n"
          ]
        }
      ]
    },
    {
      "cell_type": "code",
      "source": [
        "#defining model\n",
        "\n",
        "def createmodel(my_inputs, my_features):\n",
        "\n",
        "  \n"
      ],
      "metadata": {
        "id": "eBC_jZd_TP6F",
        "colab": {
          "base_uri": "https://localhost:8080/",
          "height": 133
        },
        "outputId": "60af21a7-83ee-4a6f-d151-c14e22cdf0b4"
      },
      "execution_count": 27,
      "outputs": [
        {
          "output_type": "error",
          "ename": "SyntaxError",
          "evalue": "ignored",
          "traceback": [
            "\u001b[0;36m  File \u001b[0;32m\"<ipython-input-27-f88373e36ce1>\"\u001b[0;36m, line \u001b[0;32m4\u001b[0m\n\u001b[0;31m    \u001b[0m\n\u001b[0m    ^\u001b[0m\n\u001b[0;31mSyntaxError\u001b[0m\u001b[0;31m:\u001b[0m incomplete input\n"
          ]
        }
      ]
    },
    {
      "cell_type": "code",
      "source": [
        "#defining plotting function\n",
        "\n",
        "\n",
        "def plot_the_loss_curve(epochs, mse):\n",
        "  \"\"\"Plot a curve of loss vs. epoch.\"\"\"\n",
        "\n",
        "  plt.figure()\n",
        "  plt.xlabel(\"Epoch\")\n",
        "  plt.ylabel(\"Mean Squared Error\")\n",
        "\n",
        "  plt.plot(epochs, mse, label=\"Loss\")\n",
        "  plt.legend()\n",
        "  plt.ylim([mse.min()*0.95, mse.max() * 1.03])\n",
        "  plt.show()  \n",
        "\n",
        "print(\"Defined the plot_the_loss_curve function.\")"
      ],
      "metadata": {
        "colab": {
          "base_uri": "https://localhost:8080/"
        },
        "id": "QRbdwWqWZ62c",
        "outputId": "869cb7b9-e3ea-4727-b780-8739a7dc8111"
      },
      "execution_count": 25,
      "outputs": [
        {
          "output_type": "stream",
          "name": "stdout",
          "text": [
            "Defined the plot_the_loss_curve function.\n"
          ]
        }
      ]
    }
  ]
}