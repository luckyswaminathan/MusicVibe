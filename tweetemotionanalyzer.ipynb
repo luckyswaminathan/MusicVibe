{
  "nbformat": 4,
  "nbformat_minor": 0,
  "metadata": {
    "colab": {
      "provenance": [],
      "authorship_tag": "ABX9TyNIe8xtEEi13jpSh4TjrbRl",
      "include_colab_link": true
    },
    "kernelspec": {
      "name": "python3",
      "display_name": "Python 3"
    },
    "language_info": {
      "name": "python"
    }
  },
  "cells": [
    {
      "cell_type": "markdown",
      "metadata": {
        "id": "view-in-github",
        "colab_type": "text"
      },
      "source": [
        "<a href=\"https://colab.research.google.com/github/luckyswaminathan/MusicVibe/blob/main/tweetemotionanalyzer.ipynb\" target=\"_parent\"><img src=\"https://colab.research.google.com/assets/colab-badge.svg\" alt=\"Open In Colab\"/></a>"
      ]
    },
    {
      "cell_type": "code",
      "execution_count": 2,
      "metadata": {
        "id": "a-zoS4YOORin"
      },
      "outputs": [],
      "source": [
        "#@title Import relevant modules\n",
        "import numpy as np\n",
        "import pandas as pd\n",
        "import tensorflow as tf\n",
        "from tensorflow.keras import layers\n",
        "from matplotlib import pyplot as plt\n",
        "from sklearn.model_selection import train_test_split\n",
        "\n",
        "# The following lines adjust the granularity of reporting. \n",
        "pd.options.display.max_rows = 10\n",
        "pd.options.display.float_format = \"{:.1f}\".format\n",
        "\n",
        "# The following line improves formatting when ouputting NumPy arrays.\n",
        "np.set_printoptions(linewidth = 200)\n"
      ]
    },
    {
      "cell_type": "code",
      "source": [
        "#imports csv\n",
        "url = 'https://raw.githubusercontent.com/luckyswaminathan/MusicVibe/main/tweet_emotions.csv'\n",
        "\n",
        "msc_df = pd.read_csv(url)\n",
        "msc_df.drop_duplicates(keep='first')\n",
        "msc_df.drop(columns=\"tweet_id\", inplace = True)\n",
        "msc_df = msc_df.reindex(np.random.permutation(msc_df.index))\n",
        "\n",
        "# splitting the input/output parts\n",
        "\n",
        "\n",
        "rows = msc_df.shape[0]\n",
        "maxTrain =int(rows*0.8)\n",
        "\n",
        "words_train = msc_df[0:maxTrain]['content']\n",
        "words_test = msc_df[maxTrain+1:-1]['content']\n",
        "\n",
        "feelings_train = msc_df[0:maxTrain]['sentiment']\n",
        "feelings_test = msc_df[maxTrain+1:-1]['sentiment']\n",
        "\n",
        "\n",
        "# just a print to show the 13 different feelings in this data set\n",
        "print(np.unique(feelings_train))\n"
      ],
      "metadata": {
        "id": "qWirAIOUPFSd",
        "colab": {
          "base_uri": "https://localhost:8080/"
        },
        "outputId": "82867182-fa47-40e5-a8fe-1866f9126d20"
      },
      "execution_count": 26,
      "outputs": [
        {
          "output_type": "stream",
          "name": "stdout",
          "text": [
            "33300    nothing to do &gt;.&lt;..any1 wanna keep me co...\n",
            "19074    Anyone want my chocolate nutella mochi? Its ju...\n",
            "5955     @deusbrackers i'm in AD for another week- visa...\n",
            "13922    Ugh, okay I'm going to go shower now  and then...\n",
            "13912                                         More sunburn\n",
            "                               ...                        \n",
            "35577    I loved Star Trek. It was so awesome. And the ...\n",
            "11964    got an email from my auntie bout fathers day.....\n",
            "32489                  @LittleGigiGirl Happy Birthday!!!!!\n",
            "25530                       @ncteacher77  I appreciate you\n",
            "9796             @stevico1 Its so nice i ahd to work today\n",
            "Name: content, Length: 7998, dtype: object\n",
            "['anger' 'boredom' 'empty' 'enthusiasm' 'fun' 'happiness' 'hate' 'love' 'neutral' 'relief' 'sadness' 'surprise' 'worry']\n"
          ]
        }
      ]
    },
    {
      "cell_type": "code",
      "source": [
        "#defining model\n",
        "\n",
        "def createmodel(my_inputs, my_features):\n",
        "  "
      ],
      "metadata": {
        "id": "eBC_jZd_TP6F",
        "colab": {
          "base_uri": "https://localhost:8080/"
        },
        "outputId": "ad098ce1-ef86-4a27-be70-80069c4dbda1"
      },
      "execution_count": 6,
      "outputs": [
        {
          "output_type": "stream",
          "name": "stdout",
          "text": [
            "['#3breakupwords you have changed' '#3wordsaftersex  Ow, rug burns' \"#3wordsaftersex I haven't started\" ...\n",
            " \"ï¿½anisalovesu me too. I am so so upset,especially because i fear i won't get a Jared hug tomorrow\"\n",
            " 'ï¿½ï¿½We are ready for the new generation!!...Oh yeah...We are a Backstreet fans and we are proud about it!!'\n",
            " 'ï¿½ï¿½h. iï¿½m gonna go in the &quot;big&quot; house now, borrow my sis guitar and play and maybe write']\n"
          ]
        }
      ]
    },
    {
      "cell_type": "code",
      "source": [
        "#defining plotting function\n",
        "\n",
        "\n",
        "def plot_the_loss_curve(epochs, mse):\n",
        "  \"\"\"Plot a curve of loss vs. epoch.\"\"\"\n",
        "\n",
        "  plt.figure()\n",
        "  plt.xlabel(\"Epoch\")\n",
        "  plt.ylabel(\"Mean Squared Error\")\n",
        "\n",
        "  plt.plot(epochs, mse, label=\"Loss\")\n",
        "  plt.legend()\n",
        "  plt.ylim([mse.min()*0.95, mse.max() * 1.03])\n",
        "  plt.show()  \n",
        "\n",
        "print(\"Defined the plot_the_loss_curve function.\")"
      ],
      "metadata": {
        "colab": {
          "base_uri": "https://localhost:8080/"
        },
        "id": "QRbdwWqWZ62c",
        "outputId": "869cb7b9-e3ea-4727-b780-8739a7dc8111"
      },
      "execution_count": 25,
      "outputs": [
        {
          "output_type": "stream",
          "name": "stdout",
          "text": [
            "Defined the plot_the_loss_curve function.\n"
          ]
        }
      ]
    }
  ]
}