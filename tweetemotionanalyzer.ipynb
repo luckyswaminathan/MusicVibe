{
  "nbformat": 4,
  "nbformat_minor": 0,
  "metadata": {
    "colab": {
      "provenance": [],
      "authorship_tag": "ABX9TyPS27jTTuRs8NYh1drD/M3S",
      "include_colab_link": true
    },
    "kernelspec": {
      "name": "python3",
      "display_name": "Python 3"
    },
    "language_info": {
      "name": "python"
    }
  },
  "cells": [
    {
      "cell_type": "markdown",
      "metadata": {
        "id": "view-in-github",
        "colab_type": "text"
      },
      "source": [
        "<a href=\"https://colab.research.google.com/github/luckyswaminathan/MusicVibe/blob/main/tweetemotionanalyzer.ipynb\" target=\"_parent\"><img src=\"https://colab.research.google.com/assets/colab-badge.svg\" alt=\"Open In Colab\"/></a>"
      ]
    },
    {
      "cell_type": "code",
      "execution_count": 2,
      "metadata": {
        "id": "a-zoS4YOORin"
      },
      "outputs": [],
      "source": [
        "#@title Import relevant modules\n",
        "import numpy as np\n",
        "import pandas as pd\n",
        "import tensorflow as tf\n",
        "from tensorflow.keras import layers\n",
        "from matplotlib import pyplot as plt\n",
        "\n",
        "# The following lines adjust the granularity of reporting. \n",
        "pd.options.display.max_rows = 10\n",
        "pd.options.display.float_format = \"{:.1f}\".format\n",
        "\n",
        "# The following line improves formatting when ouputting NumPy arrays.\n",
        "np.set_printoptions(linewidth = 200)\n"
      ]
    },
    {
      "cell_type": "code",
      "source": [
        "url = 'https://raw.githubusercontent.com/luckyswaminathan/MusicVibe/main/tweet_emotions.csv'\n",
        "\n",
        "train_df = pd.read_csv(url)\n",
        "train_df.drop_duplicates(keep='first')\n",
        "train_df.drop(columns=\"tweet_id\", inplace = True)\n",
        "\n",
        "\n",
        "x_train\n",
        "rows = train_df.shape[0]\n",
        "\n"
      ],
      "metadata": {
        "id": "qWirAIOUPFSd",
        "colab": {
          "base_uri": "https://localhost:8080/"
        },
        "outputId": "e0dc3e54-4500-4650-bcfb-57e124bd0784"
      },
      "execution_count": 10,
      "outputs": [
        {
          "output_type": "stream",
          "name": "stdout",
          "text": [
            "40000\n",
            "0         empty\n",
            "1       sadness\n",
            "2       sadness\n",
            "3    enthusiasm\n",
            "4       neutral\n",
            "Name: sentiment, dtype: object\n"
          ]
        }
      ]
    },
    {
      "cell_type": "code",
      "source": [
        "#defining model\n",
        "\n",
        "def createmodel(my_inputs, my_features):\n",
        "  "
      ],
      "metadata": {
        "id": "eBC_jZd_TP6F",
        "colab": {
          "base_uri": "https://localhost:8080/"
        },
        "outputId": "ad098ce1-ef86-4a27-be70-80069c4dbda1"
      },
      "execution_count": 6,
      "outputs": [
        {
          "output_type": "stream",
          "name": "stdout",
          "text": [
            "['#3breakupwords you have changed' '#3wordsaftersex  Ow, rug burns' \"#3wordsaftersex I haven't started\" ...\n",
            " \"ï¿½anisalovesu me too. I am so so upset,especially because i fear i won't get a Jared hug tomorrow\"\n",
            " 'ï¿½ï¿½We are ready for the new generation!!...Oh yeah...We are a Backstreet fans and we are proud about it!!'\n",
            " 'ï¿½ï¿½h. iï¿½m gonna go in the &quot;big&quot; house now, borrow my sis guitar and play and maybe write']\n"
          ]
        }
      ]
    }
  ]
}